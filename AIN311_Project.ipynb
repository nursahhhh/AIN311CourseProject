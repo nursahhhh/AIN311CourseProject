{
 "cells": [
  {
   "cell_type": "markdown",
   "metadata": {},
   "source": [
    "# AIN311 COURSE PROJECT\n"
   ]
  },
  {
   "cell_type": "markdown",
   "metadata": {},
   "source": [
    "## Feature  Desription :\n",
    "url :https://data.scorenetwork.org/hockey/nhl-shots.html\n",
    "\n",
    "| Variable                | Description                                                                                                     |\n",
    "|-------------------------|-----------------------------------------------------------------------------------------------------------------|\n",
    "| `game_id`               | Unique integer identifier for game shot took place in                                                          |\n",
    "| `description`           | String detailed description of shot event                                                                      |\n",
    "| `shot_outcome`          | String denoting the outcome of the shot, either BLOCKED_SHOT (meaning blocked by a non-goalie), GOAL, MISSED_SHOT (shot that missed the net), or SHOT (shot on net that was saved by a goalie) |\n",
    "| `period`                | Integer value of the game period                                                                               |\n",
    "| `period_seconds_remaining` | Numeric value of the seconds remaining in the period                                                       |\n",
    "| `game_seconds_remaining`   | Numeric value of the seconds remaining in the game; negative for overtime periods                         |\n",
    "| `home_score`            | Integer value of the home team score after the event                                                           |\n",
    "| `away_score`            | Integer value of the away team score after the event                                                           |\n",
    "| `home_name`             | String name of the home team                                                                                   |\n",
    "| `away_name`             | String name of the away team                                                                                   |\n",
    "| `event_team`            | String defining the team taking the shot                                                                      |\n",
    "| `event_goalie_name`     | String name of goalie (if in net)                                                                             |\n",
    "| `empty_net`             | Boolean indicating if the shot was during an empty net situation, TRUE if so but FALSE or NA if not           |\n",
    "| `event_player_1_name`   | String name of the primary event player                                                                       |\n",
    "| `event_player_1_type`   | String indicator for the role of event_player_1 (typically the shooter)                                       |\n",
    "| `event_player_2_name`   | String name of the secondary event player                                                                     |\n",
    "| `event_player_2_type`   | String indicator for the role of event_player_2 (blocker, assist, or goalie)                                  |\n",
    "| `strength_code`         | String indicator for game strength: EV (Even), SH (Shorthanded), or PP (Power Play)                           |\n",
    "| `x_fixed`               | Numeric transformed x-coordinate of event in feet, where the home team always shoots to the right, away team to the left |\n",
    "| `y_fixed`               | Numeric transformed y-coordinate of event in feet, where the home team always shoots to the right, away team to the left |\n",
    "| `shot_distance`         | Numeric distance (in feet) to center of net for unblocked shot events                                         |\n",
    "| `shot_angle`            | Numeric angle (in degrees) to center of net for unblocked shot events                                          |\n"
   ]
  },
  {
   "cell_type": "code",
   "execution_count": null,
   "metadata": {},
   "outputs": [],
   "source": [
    "#import  libraries\n",
    "import os \n",
    "import pandas as pd \n",
    "import numpy as np\n",
    "import matplotlib.pyplot as plt\n",
    "from sklearn.metrics import \n"
   ]
  },
  {
   "cell_type": "markdown",
   "metadata": {},
   "source": [
    "### Data Summary\n"
   ]
  },
  {
   "cell_type": "code",
   "execution_count": 2,
   "metadata": {},
   "outputs": [
    {
     "data": {
      "text/html": [
       "<div>\n",
       "<style scoped>\n",
       "    .dataframe tbody tr th:only-of-type {\n",
       "        vertical-align: middle;\n",
       "    }\n",
       "\n",
       "    .dataframe tbody tr th {\n",
       "        vertical-align: top;\n",
       "    }\n",
       "\n",
       "    .dataframe thead th {\n",
       "        text-align: right;\n",
       "    }\n",
       "</style>\n",
       "<table border=\"1\" class=\"dataframe\">\n",
       "  <thead>\n",
       "    <tr style=\"text-align: right;\">\n",
       "      <th></th>\n",
       "      <th>game_id</th>\n",
       "      <th>description</th>\n",
       "      <th>shot_outcome</th>\n",
       "      <th>period</th>\n",
       "      <th>period_seconds_remaining</th>\n",
       "      <th>game_seconds_remaining</th>\n",
       "      <th>home_score</th>\n",
       "      <th>away_score</th>\n",
       "      <th>home_name</th>\n",
       "      <th>away_name</th>\n",
       "      <th>...</th>\n",
       "      <th>empty_net</th>\n",
       "      <th>event_player_1_name</th>\n",
       "      <th>event_player_1_type</th>\n",
       "      <th>event_player_2_name</th>\n",
       "      <th>event_player_2_type</th>\n",
       "      <th>strength_code</th>\n",
       "      <th>x_fixed</th>\n",
       "      <th>y_fixed</th>\n",
       "      <th>shot_distance</th>\n",
       "      <th>shot_angle</th>\n",
       "    </tr>\n",
       "  </thead>\n",
       "  <tbody>\n",
       "    <tr>\n",
       "      <th>0</th>\n",
       "      <td>2021020001</td>\n",
       "      <td>Steven Stamkos Wrist Shot saved by Tristan Jarry</td>\n",
       "      <td>SHOT</td>\n",
       "      <td>1</td>\n",
       "      <td>1137</td>\n",
       "      <td>3537</td>\n",
       "      <td>0</td>\n",
       "      <td>0</td>\n",
       "      <td>Tampa Bay Lightning</td>\n",
       "      <td>Pittsburgh Penguins</td>\n",
       "      <td>...</td>\n",
       "      <td>NaN</td>\n",
       "      <td>Steven.Stamkos</td>\n",
       "      <td>Shooter</td>\n",
       "      <td>Tristan.Jarry</td>\n",
       "      <td>Goalie</td>\n",
       "      <td>EV</td>\n",
       "      <td>61.0</td>\n",
       "      <td>-32.0</td>\n",
       "      <td>42.5</td>\n",
       "      <td>48.8</td>\n",
       "    </tr>\n",
       "    <tr>\n",
       "      <th>1</th>\n",
       "      <td>2021020001</td>\n",
       "      <td>Zach Bogosian shot blocked shot by Brock McGinn</td>\n",
       "      <td>BLOCKED_SHOT</td>\n",
       "      <td>1</td>\n",
       "      <td>1115</td>\n",
       "      <td>3515</td>\n",
       "      <td>0</td>\n",
       "      <td>0</td>\n",
       "      <td>Tampa Bay Lightning</td>\n",
       "      <td>Pittsburgh Penguins</td>\n",
       "      <td>...</td>\n",
       "      <td>NaN</td>\n",
       "      <td>Zach.Bogosian</td>\n",
       "      <td>Shooter</td>\n",
       "      <td>Brock.McGinn</td>\n",
       "      <td>Blocker</td>\n",
       "      <td>EV</td>\n",
       "      <td>60.0</td>\n",
       "      <td>-17.0</td>\n",
       "      <td>NaN</td>\n",
       "      <td>NaN</td>\n",
       "    </tr>\n",
       "    <tr>\n",
       "      <th>2</th>\n",
       "      <td>2021020001</td>\n",
       "      <td>Brock McGinn Wrist Shot saved by Andrei Vasile...</td>\n",
       "      <td>SHOT</td>\n",
       "      <td>1</td>\n",
       "      <td>1096</td>\n",
       "      <td>3496</td>\n",
       "      <td>0</td>\n",
       "      <td>0</td>\n",
       "      <td>Tampa Bay Lightning</td>\n",
       "      <td>Pittsburgh Penguins</td>\n",
       "      <td>...</td>\n",
       "      <td>NaN</td>\n",
       "      <td>Brock.McGinn</td>\n",
       "      <td>Shooter</td>\n",
       "      <td>Andrei.Vasilevskiy</td>\n",
       "      <td>Goalie</td>\n",
       "      <td>EV</td>\n",
       "      <td>-65.0</td>\n",
       "      <td>19.0</td>\n",
       "      <td>30.6</td>\n",
       "      <td>38.4</td>\n",
       "    </tr>\n",
       "    <tr>\n",
       "      <th>3</th>\n",
       "      <td>2021020001</td>\n",
       "      <td>Jan Rutta Wrist Shot saved by Tristan Jarry</td>\n",
       "      <td>SHOT</td>\n",
       "      <td>1</td>\n",
       "      <td>1079</td>\n",
       "      <td>3479</td>\n",
       "      <td>0</td>\n",
       "      <td>0</td>\n",
       "      <td>Tampa Bay Lightning</td>\n",
       "      <td>Pittsburgh Penguins</td>\n",
       "      <td>...</td>\n",
       "      <td>NaN</td>\n",
       "      <td>Jan.Rutta</td>\n",
       "      <td>Shooter</td>\n",
       "      <td>Tristan.Jarry</td>\n",
       "      <td>Goalie</td>\n",
       "      <td>EV</td>\n",
       "      <td>-8.0</td>\n",
       "      <td>-27.0</td>\n",
       "      <td>100.7</td>\n",
       "      <td>15.6</td>\n",
       "    </tr>\n",
       "    <tr>\n",
       "      <th>4</th>\n",
       "      <td>2021020001</td>\n",
       "      <td>Danton Heinen Wrist Shot saved by Andrei Vasil...</td>\n",
       "      <td>SHOT</td>\n",
       "      <td>1</td>\n",
       "      <td>1033</td>\n",
       "      <td>3433</td>\n",
       "      <td>0</td>\n",
       "      <td>0</td>\n",
       "      <td>Tampa Bay Lightning</td>\n",
       "      <td>Pittsburgh Penguins</td>\n",
       "      <td>...</td>\n",
       "      <td>NaN</td>\n",
       "      <td>Danton.Heinen</td>\n",
       "      <td>Shooter</td>\n",
       "      <td>Andrei.Vasilevskiy</td>\n",
       "      <td>Goalie</td>\n",
       "      <td>EV</td>\n",
       "      <td>-60.0</td>\n",
       "      <td>-4.0</td>\n",
       "      <td>29.3</td>\n",
       "      <td>7.9</td>\n",
       "    </tr>\n",
       "  </tbody>\n",
       "</table>\n",
       "<p>5 rows × 22 columns</p>\n",
       "</div>"
      ],
      "text/plain": [
       "      game_id                                        description  \\\n",
       "0  2021020001   Steven Stamkos Wrist Shot saved by Tristan Jarry   \n",
       "1  2021020001    Zach Bogosian shot blocked shot by Brock McGinn   \n",
       "2  2021020001  Brock McGinn Wrist Shot saved by Andrei Vasile...   \n",
       "3  2021020001        Jan Rutta Wrist Shot saved by Tristan Jarry   \n",
       "4  2021020001  Danton Heinen Wrist Shot saved by Andrei Vasil...   \n",
       "\n",
       "   shot_outcome  period  period_seconds_remaining  game_seconds_remaining  \\\n",
       "0          SHOT       1                      1137                    3537   \n",
       "1  BLOCKED_SHOT       1                      1115                    3515   \n",
       "2          SHOT       1                      1096                    3496   \n",
       "3          SHOT       1                      1079                    3479   \n",
       "4          SHOT       1                      1033                    3433   \n",
       "\n",
       "   home_score  away_score            home_name            away_name  ...  \\\n",
       "0           0           0  Tampa Bay Lightning  Pittsburgh Penguins  ...   \n",
       "1           0           0  Tampa Bay Lightning  Pittsburgh Penguins  ...   \n",
       "2           0           0  Tampa Bay Lightning  Pittsburgh Penguins  ...   \n",
       "3           0           0  Tampa Bay Lightning  Pittsburgh Penguins  ...   \n",
       "4           0           0  Tampa Bay Lightning  Pittsburgh Penguins  ...   \n",
       "\n",
       "  empty_net event_player_1_name event_player_1_type event_player_2_name  \\\n",
       "0       NaN      Steven.Stamkos             Shooter       Tristan.Jarry   \n",
       "1       NaN       Zach.Bogosian             Shooter        Brock.McGinn   \n",
       "2       NaN        Brock.McGinn             Shooter  Andrei.Vasilevskiy   \n",
       "3       NaN           Jan.Rutta             Shooter       Tristan.Jarry   \n",
       "4       NaN       Danton.Heinen             Shooter  Andrei.Vasilevskiy   \n",
       "\n",
       "  event_player_2_type strength_code x_fixed y_fixed  shot_distance  shot_angle  \n",
       "0              Goalie            EV    61.0   -32.0           42.5        48.8  \n",
       "1             Blocker            EV    60.0   -17.0            NaN         NaN  \n",
       "2              Goalie            EV   -65.0    19.0           30.6        38.4  \n",
       "3              Goalie            EV    -8.0   -27.0          100.7        15.6  \n",
       "4              Goalie            EV   -60.0    -4.0           29.3         7.9  \n",
       "\n",
       "[5 rows x 22 columns]"
      ]
     },
     "execution_count": 2,
     "metadata": {},
     "output_type": "execute_result"
    }
   ],
   "source": [
    "#load data and display\n",
    "df = pd.read_csv('shots.csv')\n",
    "df.head(5)"
   ]
  },
  {
   "cell_type": "code",
   "execution_count": 3,
   "metadata": {},
   "outputs": [
    {
     "name": "stdout",
     "output_type": "stream",
     "text": [
      "<class 'pandas.core.frame.DataFrame'>\n",
      "RangeIndex: 160573 entries, 0 to 160572\n",
      "Data columns (total 22 columns):\n",
      " #   Column                    Non-Null Count   Dtype  \n",
      "---  ------                    --------------   -----  \n",
      " 0   game_id                   160573 non-null  int64  \n",
      " 1   description               160573 non-null  object \n",
      " 2   shot_outcome              160573 non-null  object \n",
      " 3   period                    160573 non-null  int64  \n",
      " 4   period_seconds_remaining  160573 non-null  int64  \n",
      " 5   game_seconds_remaining    160573 non-null  int64  \n",
      " 6   home_score                160573 non-null  int64  \n",
      " 7   away_score                160573 non-null  int64  \n",
      " 8   home_name                 160573 non-null  object \n",
      " 9   away_name                 160573 non-null  object \n",
      " 10  event_team                160573 non-null  object \n",
      " 11  event_goalie_name         89064 non-null   object \n",
      " 12  empty_net                 8712 non-null    object \n",
      " 13  event_player_1_name       160573 non-null  object \n",
      " 14  event_player_1_type       160573 non-null  object \n",
      " 15  event_player_2_name       160199 non-null  object \n",
      " 16  event_player_2_type       160199 non-null  object \n",
      " 17  strength_code             160267 non-null  object \n",
      " 18  x_fixed                   160560 non-null  float64\n",
      " 19  y_fixed                   160560 non-null  float64\n",
      " 20  shot_distance             122349 non-null  float64\n",
      " 21  shot_angle                122349 non-null  float64\n",
      "dtypes: float64(4), int64(6), object(12)\n",
      "memory usage: 27.0+ MB\n"
     ]
    }
   ],
   "source": [
    "# summary about entries and data types\n",
    "df.info()"
   ]
  },
  {
   "cell_type": "code",
   "execution_count": 4,
   "metadata": {},
   "outputs": [
    {
     "data": {
      "text/plain": [
       "game_id                          0\n",
       "description                      0\n",
       "shot_outcome                     0\n",
       "period                           0\n",
       "period_seconds_remaining         0\n",
       "game_seconds_remaining           0\n",
       "home_score                       0\n",
       "away_score                       0\n",
       "home_name                        0\n",
       "away_name                        0\n",
       "event_team                       0\n",
       "event_goalie_name            71509\n",
       "empty_net                   151861\n",
       "event_player_1_name              0\n",
       "event_player_1_type              0\n",
       "event_player_2_name            374\n",
       "event_player_2_type            374\n",
       "strength_code                  306\n",
       "x_fixed                         13\n",
       "y_fixed                         13\n",
       "shot_distance                38224\n",
       "shot_angle                   38224\n",
       "dtype: int64"
      ]
     },
     "execution_count": 4,
     "metadata": {},
     "output_type": "execute_result"
    }
   ],
   "source": [
    "df.isnull().sum()"
   ]
  },
  {
   "cell_type": "code",
   "execution_count": 5,
   "metadata": {},
   "outputs": [],
   "source": [
    "#distinguish between categorical and numeric columns\n",
    "numerical_features =['period','period_seconds_remaining','game_seconds_remaining','home_score','away_score','x_fixed','y_fixed','shot_distance','shot_angle','game_id']\n",
    "categorical_features = df.columns.difference(numerical_features).tolist()"
   ]
  },
  {
   "cell_type": "code",
   "execution_count": 6,
   "metadata": {},
   "outputs": [
    {
     "data": {
      "text/html": [
       "<style type=\"text/css\">\n",
       "#T_559ee_row0_col0, #T_559ee_row0_col1, #T_559ee_row0_col2, #T_559ee_row0_col3, #T_559ee_row0_col4, #T_559ee_row0_col5, #T_559ee_row0_col6, #T_559ee_row0_col7, #T_559ee_row0_col8, #T_559ee_row1_col9, #T_559ee_row3_col9, #T_559ee_row4_col9, #T_559ee_row5_col9, #T_559ee_row6_col9, #T_559ee_row7_col9 {\n",
       "  background-color: #000000;\n",
       "  color: #f1f1f1;\n",
       "}\n",
       "#T_559ee_row0_col9, #T_559ee_row1_col0, #T_559ee_row1_col1, #T_559ee_row1_col3, #T_559ee_row1_col4, #T_559ee_row1_col5, #T_559ee_row1_col6, #T_559ee_row1_col7, #T_559ee_row1_col8, #T_559ee_row2_col0, #T_559ee_row2_col1, #T_559ee_row2_col3, #T_559ee_row2_col4, #T_559ee_row2_col5, #T_559ee_row2_col6, #T_559ee_row2_col7, #T_559ee_row2_col8, #T_559ee_row2_col9, #T_559ee_row3_col0, #T_559ee_row3_col1, #T_559ee_row3_col2, #T_559ee_row3_col3, #T_559ee_row3_col4, #T_559ee_row3_col5, #T_559ee_row3_col6, #T_559ee_row3_col7, #T_559ee_row3_col8, #T_559ee_row4_col0, #T_559ee_row4_col1, #T_559ee_row4_col3, #T_559ee_row4_col4, #T_559ee_row4_col5, #T_559ee_row4_col6, #T_559ee_row4_col7, #T_559ee_row4_col8, #T_559ee_row5_col0, #T_559ee_row5_col1, #T_559ee_row5_col3, #T_559ee_row5_col4, #T_559ee_row5_col5, #T_559ee_row5_col6, #T_559ee_row5_col7, #T_559ee_row5_col8, #T_559ee_row6_col0, #T_559ee_row6_col1, #T_559ee_row6_col3, #T_559ee_row6_col4, #T_559ee_row6_col5, #T_559ee_row6_col6, #T_559ee_row6_col7, #T_559ee_row6_col8, #T_559ee_row7_col0, #T_559ee_row7_col1, #T_559ee_row7_col3, #T_559ee_row7_col4, #T_559ee_row7_col5, #T_559ee_row7_col6, #T_559ee_row7_col7, #T_559ee_row7_col8 {\n",
       "  background-color: #ffffff;\n",
       "  color: #000000;\n",
       "}\n",
       "#T_559ee_row1_col2, #T_559ee_row5_col2 {\n",
       "  background-color: #fdfdfd;\n",
       "  color: #000000;\n",
       "}\n",
       "#T_559ee_row2_col2, #T_559ee_row4_col2 {\n",
       "  background-color: #fefefe;\n",
       "  color: #000000;\n",
       "}\n",
       "#T_559ee_row6_col2, #T_559ee_row7_col2 {\n",
       "  background-color: #fcfcfc;\n",
       "  color: #000000;\n",
       "}\n",
       "</style>\n",
       "<table id=\"T_559ee\">\n",
       "  <thead>\n",
       "    <tr>\n",
       "      <th class=\"blank level0\" >&nbsp;</th>\n",
       "      <th id=\"T_559ee_level0_col0\" class=\"col_heading level0 col0\" >period</th>\n",
       "      <th id=\"T_559ee_level0_col1\" class=\"col_heading level0 col1\" >period_seconds_remaining</th>\n",
       "      <th id=\"T_559ee_level0_col2\" class=\"col_heading level0 col2\" >game_seconds_remaining</th>\n",
       "      <th id=\"T_559ee_level0_col3\" class=\"col_heading level0 col3\" >home_score</th>\n",
       "      <th id=\"T_559ee_level0_col4\" class=\"col_heading level0 col4\" >away_score</th>\n",
       "      <th id=\"T_559ee_level0_col5\" class=\"col_heading level0 col5\" >x_fixed</th>\n",
       "      <th id=\"T_559ee_level0_col6\" class=\"col_heading level0 col6\" >y_fixed</th>\n",
       "      <th id=\"T_559ee_level0_col7\" class=\"col_heading level0 col7\" >shot_distance</th>\n",
       "      <th id=\"T_559ee_level0_col8\" class=\"col_heading level0 col8\" >shot_angle</th>\n",
       "      <th id=\"T_559ee_level0_col9\" class=\"col_heading level0 col9\" >game_id</th>\n",
       "    </tr>\n",
       "  </thead>\n",
       "  <tbody>\n",
       "    <tr>\n",
       "      <th id=\"T_559ee_level0_row0\" class=\"row_heading level0 row0\" >count</th>\n",
       "      <td id=\"T_559ee_row0_col0\" class=\"data row0 col0\" >160573.000000</td>\n",
       "      <td id=\"T_559ee_row0_col1\" class=\"data row0 col1\" >160573.000000</td>\n",
       "      <td id=\"T_559ee_row0_col2\" class=\"data row0 col2\" >160573.000000</td>\n",
       "      <td id=\"T_559ee_row0_col3\" class=\"data row0 col3\" >160573.000000</td>\n",
       "      <td id=\"T_559ee_row0_col4\" class=\"data row0 col4\" >160573.000000</td>\n",
       "      <td id=\"T_559ee_row0_col5\" class=\"data row0 col5\" >160560.000000</td>\n",
       "      <td id=\"T_559ee_row0_col6\" class=\"data row0 col6\" >160560.000000</td>\n",
       "      <td id=\"T_559ee_row0_col7\" class=\"data row0 col7\" >122349.000000</td>\n",
       "      <td id=\"T_559ee_row0_col8\" class=\"data row0 col8\" >122349.000000</td>\n",
       "      <td id=\"T_559ee_row0_col9\" class=\"data row0 col9\" >160573.000000</td>\n",
       "    </tr>\n",
       "    <tr>\n",
       "      <th id=\"T_559ee_level0_row1\" class=\"row_heading level0 row1\" >mean</th>\n",
       "      <td id=\"T_559ee_row1_col0\" class=\"data row1 col0\" >2.035106</td>\n",
       "      <td id=\"T_559ee_row1_col1\" class=\"data row1 col1\" >587.206268</td>\n",
       "      <td id=\"T_559ee_row1_col2\" class=\"data row1 col2\" >1767.206018</td>\n",
       "      <td id=\"T_559ee_row1_col3\" class=\"data row1 col3\" >1.525312</td>\n",
       "      <td id=\"T_559ee_row1_col4\" class=\"data row1 col4\" >1.384660</td>\n",
       "      <td id=\"T_559ee_row1_col5\" class=\"data row1 col5\" >2.059897</td>\n",
       "      <td id=\"T_559ee_row1_col6\" class=\"data row1 col6\" >0.108402</td>\n",
       "      <td id=\"T_559ee_row1_col7\" class=\"data row1 col7\" >35.198477</td>\n",
       "      <td id=\"T_559ee_row1_col8\" class=\"data row1 col8\" >30.149606</td>\n",
       "      <td id=\"T_559ee_row1_col9\" class=\"data row1 col9\" >2021021322.001358</td>\n",
       "    </tr>\n",
       "    <tr>\n",
       "      <th id=\"T_559ee_level0_row2\" class=\"row_heading level0 row2\" >std</th>\n",
       "      <td id=\"T_559ee_row2_col0\" class=\"data row2 col0\" >0.860840</td>\n",
       "      <td id=\"T_559ee_row2_col1\" class=\"data row2 col1\" >348.952383</td>\n",
       "      <td id=\"T_559ee_row2_col2\" class=\"data row2 col2\" >1055.099727</td>\n",
       "      <td id=\"T_559ee_row2_col3\" class=\"data row2 col3\" >1.531118</td>\n",
       "      <td id=\"T_559ee_row2_col4\" class=\"data row2 col4\" >1.403652</td>\n",
       "      <td id=\"T_559ee_row2_col5\" class=\"data row2 col5\" >64.821917</td>\n",
       "      <td id=\"T_559ee_row2_col6\" class=\"data row2 col6\" >17.164142</td>\n",
       "      <td id=\"T_559ee_row2_col7\" class=\"data row2 col7\" >24.087589</td>\n",
       "      <td id=\"T_559ee_row2_col8\" class=\"data row2 col8\" >21.148277</td>\n",
       "      <td id=\"T_559ee_row2_col9\" class=\"data row2 col9\" >2455.421940</td>\n",
       "    </tr>\n",
       "    <tr>\n",
       "      <th id=\"T_559ee_level0_row3\" class=\"row_heading level0 row3\" >min</th>\n",
       "      <td id=\"T_559ee_row3_col0\" class=\"data row3 col0\" >1.000000</td>\n",
       "      <td id=\"T_559ee_row3_col1\" class=\"data row3 col1\" >0.000000</td>\n",
       "      <td id=\"T_559ee_row3_col2\" class=\"data row3 col2\" >-1193.000000</td>\n",
       "      <td id=\"T_559ee_row3_col3\" class=\"data row3 col3\" >0.000000</td>\n",
       "      <td id=\"T_559ee_row3_col4\" class=\"data row3 col4\" >0.000000</td>\n",
       "      <td id=\"T_559ee_row3_col5\" class=\"data row3 col5\" >-99.000000</td>\n",
       "      <td id=\"T_559ee_row3_col6\" class=\"data row3 col6\" >-42.000000</td>\n",
       "      <td id=\"T_559ee_row3_col7\" class=\"data row3 col7\" >1.000000</td>\n",
       "      <td id=\"T_559ee_row3_col8\" class=\"data row3 col8\" >0.000000</td>\n",
       "      <td id=\"T_559ee_row3_col9\" class=\"data row3 col9\" >2021020001.000000</td>\n",
       "    </tr>\n",
       "    <tr>\n",
       "      <th id=\"T_559ee_level0_row4\" class=\"row_heading level0 row4\" >25%</th>\n",
       "      <td id=\"T_559ee_row4_col0\" class=\"data row4 col0\" >1.000000</td>\n",
       "      <td id=\"T_559ee_row4_col1\" class=\"data row4 col1\" >281.000000</td>\n",
       "      <td id=\"T_559ee_row4_col2\" class=\"data row4 col2\" >868.000000</td>\n",
       "      <td id=\"T_559ee_row4_col3\" class=\"data row4 col3\" >0.000000</td>\n",
       "      <td id=\"T_559ee_row4_col4\" class=\"data row4 col4\" >0.000000</td>\n",
       "      <td id=\"T_559ee_row4_col5\" class=\"data row4 col5\" >-65.000000</td>\n",
       "      <td id=\"T_559ee_row4_col6\" class=\"data row4 col6\" >-11.000000</td>\n",
       "      <td id=\"T_559ee_row4_col7\" class=\"data row4 col7\" >17.100000</td>\n",
       "      <td id=\"T_559ee_row4_col8\" class=\"data row4 col8\" >13.400000</td>\n",
       "      <td id=\"T_559ee_row4_col9\" class=\"data row4 col9\" >2021020356.000000</td>\n",
       "    </tr>\n",
       "    <tr>\n",
       "      <th id=\"T_559ee_level0_row5\" class=\"row_heading level0 row5\" >50%</th>\n",
       "      <td id=\"T_559ee_row5_col0\" class=\"data row5 col0\" >2.000000</td>\n",
       "      <td id=\"T_559ee_row5_col1\" class=\"data row5 col1\" >589.000000</td>\n",
       "      <td id=\"T_559ee_row5_col2\" class=\"data row5 col2\" >1779.000000</td>\n",
       "      <td id=\"T_559ee_row5_col3\" class=\"data row5 col3\" >1.000000</td>\n",
       "      <td id=\"T_559ee_row5_col4\" class=\"data row5 col4\" >1.000000</td>\n",
       "      <td id=\"T_559ee_row5_col5\" class=\"data row5 col5\" >31.000000</td>\n",
       "      <td id=\"T_559ee_row5_col6\" class=\"data row5 col6\" >0.000000</td>\n",
       "      <td id=\"T_559ee_row5_col7\" class=\"data row5 col7\" >32.000000</td>\n",
       "      <td id=\"T_559ee_row5_col8\" class=\"data row5 col8\" >28.000000</td>\n",
       "      <td id=\"T_559ee_row5_col9\" class=\"data row5 col9\" >2021020710.000000</td>\n",
       "    </tr>\n",
       "    <tr>\n",
       "      <th id=\"T_559ee_level0_row6\" class=\"row_heading level0 row6\" >75%</th>\n",
       "      <td id=\"T_559ee_row6_col0\" class=\"data row6 col0\" >3.000000</td>\n",
       "      <td id=\"T_559ee_row6_col1\" class=\"data row6 col1\" >891.000000</td>\n",
       "      <td id=\"T_559ee_row6_col2\" class=\"data row6 col2\" >2674.000000</td>\n",
       "      <td id=\"T_559ee_row6_col3\" class=\"data row6 col3\" >2.000000</td>\n",
       "      <td id=\"T_559ee_row6_col4\" class=\"data row6 col4\" >2.000000</td>\n",
       "      <td id=\"T_559ee_row6_col5\" class=\"data row6 col5\" >67.000000</td>\n",
       "      <td id=\"T_559ee_row6_col6\" class=\"data row6 col6\" >11.000000</td>\n",
       "      <td id=\"T_559ee_row6_col7\" class=\"data row6 col7\" >48.500000</td>\n",
       "      <td id=\"T_559ee_row6_col8\" class=\"data row6 col8\" >42.300000</td>\n",
       "      <td id=\"T_559ee_row6_col9\" class=\"data row6 col9\" >2021021058.000000</td>\n",
       "    </tr>\n",
       "    <tr>\n",
       "      <th id=\"T_559ee_level0_row7\" class=\"row_heading level0 row7\" >max</th>\n",
       "      <td id=\"T_559ee_row7_col0\" class=\"data row7 col0\" >6.000000</td>\n",
       "      <td id=\"T_559ee_row7_col1\" class=\"data row7 col1\" >1198.000000</td>\n",
       "      <td id=\"T_559ee_row7_col2\" class=\"data row7 col2\" >3597.000000</td>\n",
       "      <td id=\"T_559ee_row7_col3\" class=\"data row7 col3\" >11.000000</td>\n",
       "      <td id=\"T_559ee_row7_col4\" class=\"data row7 col4\" >10.000000</td>\n",
       "      <td id=\"T_559ee_row7_col5\" class=\"data row7 col5\" >99.000000</td>\n",
       "      <td id=\"T_559ee_row7_col6\" class=\"data row7 col6\" >42.000000</td>\n",
       "      <td id=\"T_559ee_row7_col7\" class=\"data row7 col7\" >189.200000</td>\n",
       "      <td id=\"T_559ee_row7_col8\" class=\"data row7 col8\" >173.700000</td>\n",
       "      <td id=\"T_559ee_row7_col9\" class=\"data row7 col9\" >2021030416.000000</td>\n",
       "    </tr>\n",
       "  </tbody>\n",
       "</table>\n"
      ],
      "text/plain": [
       "<pandas.io.formats.style.Styler at 0x144a9fa0f10>"
      ]
     },
     "execution_count": 6,
     "metadata": {},
     "output_type": "execute_result"
    }
   ],
   "source": [
    "df[numerical_features].loc[:,:].describe(include='all').style.background_gradient(cmap='Greys')"
   ]
  },
  {
   "cell_type": "code",
   "execution_count": 7,
   "metadata": {},
   "outputs": [
    {
     "data": {
      "text/html": [
       "<style type=\"text/css\">\n",
       "</style>\n",
       "<table id=\"T_9d643\">\n",
       "  <thead>\n",
       "    <tr>\n",
       "      <th class=\"blank level0\" >&nbsp;</th>\n",
       "      <th id=\"T_9d643_level0_col0\" class=\"col_heading level0 col0\" >away_name</th>\n",
       "      <th id=\"T_9d643_level0_col1\" class=\"col_heading level0 col1\" >description</th>\n",
       "      <th id=\"T_9d643_level0_col2\" class=\"col_heading level0 col2\" >empty_net</th>\n",
       "      <th id=\"T_9d643_level0_col3\" class=\"col_heading level0 col3\" >event_goalie_name</th>\n",
       "      <th id=\"T_9d643_level0_col4\" class=\"col_heading level0 col4\" >event_player_1_name</th>\n",
       "      <th id=\"T_9d643_level0_col5\" class=\"col_heading level0 col5\" >event_player_1_type</th>\n",
       "      <th id=\"T_9d643_level0_col6\" class=\"col_heading level0 col6\" >event_player_2_name</th>\n",
       "      <th id=\"T_9d643_level0_col7\" class=\"col_heading level0 col7\" >event_player_2_type</th>\n",
       "      <th id=\"T_9d643_level0_col8\" class=\"col_heading level0 col8\" >event_team</th>\n",
       "      <th id=\"T_9d643_level0_col9\" class=\"col_heading level0 col9\" >home_name</th>\n",
       "      <th id=\"T_9d643_level0_col10\" class=\"col_heading level0 col10\" >shot_outcome</th>\n",
       "      <th id=\"T_9d643_level0_col11\" class=\"col_heading level0 col11\" >strength_code</th>\n",
       "    </tr>\n",
       "  </thead>\n",
       "  <tbody>\n",
       "    <tr>\n",
       "      <th id=\"T_9d643_level0_row0\" class=\"row_heading level0 row0\" >count</th>\n",
       "      <td id=\"T_9d643_row0_col0\" class=\"data row0 col0\" >160573</td>\n",
       "      <td id=\"T_9d643_row0_col1\" class=\"data row0 col1\" >160573</td>\n",
       "      <td id=\"T_9d643_row0_col2\" class=\"data row0 col2\" >8712</td>\n",
       "      <td id=\"T_9d643_row0_col3\" class=\"data row0 col3\" >89064</td>\n",
       "      <td id=\"T_9d643_row0_col4\" class=\"data row0 col4\" >160573</td>\n",
       "      <td id=\"T_9d643_row0_col5\" class=\"data row0 col5\" >160573</td>\n",
       "      <td id=\"T_9d643_row0_col6\" class=\"data row0 col6\" >160199</td>\n",
       "      <td id=\"T_9d643_row0_col7\" class=\"data row0 col7\" >160199</td>\n",
       "      <td id=\"T_9d643_row0_col8\" class=\"data row0 col8\" >160573</td>\n",
       "      <td id=\"T_9d643_row0_col9\" class=\"data row0 col9\" >160573</td>\n",
       "      <td id=\"T_9d643_row0_col10\" class=\"data row0 col10\" >160573</td>\n",
       "      <td id=\"T_9d643_row0_col11\" class=\"data row0 col11\" >160267</td>\n",
       "    </tr>\n",
       "    <tr>\n",
       "      <th id=\"T_9d643_level0_row1\" class=\"row_heading level0 row1\" >unique</th>\n",
       "      <td id=\"T_9d643_row1_col0\" class=\"data row1 col0\" >32</td>\n",
       "      <td id=\"T_9d643_row1_col1\" class=\"data row1 col1\" >111872</td>\n",
       "      <td id=\"T_9d643_row1_col2\" class=\"data row1 col2\" >2</td>\n",
       "      <td id=\"T_9d643_row1_col3\" class=\"data row1 col3\" >120</td>\n",
       "      <td id=\"T_9d643_row1_col4\" class=\"data row1 col4\" >1004</td>\n",
       "      <td id=\"T_9d643_row1_col5\" class=\"data row1 col5\" >2</td>\n",
       "      <td id=\"T_9d643_row1_col6\" class=\"data row1 col6\" >1070</td>\n",
       "      <td id=\"T_9d643_row1_col7\" class=\"data row1 col7\" >4</td>\n",
       "      <td id=\"T_9d643_row1_col8\" class=\"data row1 col8\" >32</td>\n",
       "      <td id=\"T_9d643_row1_col9\" class=\"data row1 col9\" >32</td>\n",
       "      <td id=\"T_9d643_row1_col10\" class=\"data row1 col10\" >4</td>\n",
       "      <td id=\"T_9d643_row1_col11\" class=\"data row1 col11\" >3</td>\n",
       "    </tr>\n",
       "    <tr>\n",
       "      <th id=\"T_9d643_level0_row2\" class=\"row_heading level0 row2\" >top</th>\n",
       "      <td id=\"T_9d643_row2_col0\" class=\"data row2 col0\" >Tampa Bay Lightning</td>\n",
       "      <td id=\"T_9d643_row2_col1\" class=\"data row2 col1\" >Evan Rodrigues Wrist Shot saved by Igor Shesterkin</td>\n",
       "      <td id=\"T_9d643_row2_col2\" class=\"data row2 col2\" >False</td>\n",
       "      <td id=\"T_9d643_row2_col3\" class=\"data row2 col3\" >Andrei.Vasilevskiy</td>\n",
       "      <td id=\"T_9d643_row2_col4\" class=\"data row2 col4\" >Nathan.MacKinnon</td>\n",
       "      <td id=\"T_9d643_row2_col5\" class=\"data row2 col5\" >Shooter</td>\n",
       "      <td id=\"T_9d643_row2_col6\" class=\"data row2 col6\" >Andrei.Vasilevskiy</td>\n",
       "      <td id=\"T_9d643_row2_col7\" class=\"data row2 col7\" >Goalie</td>\n",
       "      <td id=\"T_9d643_row2_col8\" class=\"data row2 col8\" >Colorado Avalanche</td>\n",
       "      <td id=\"T_9d643_row2_col9\" class=\"data row2 col9\" >Colorado Avalanche</td>\n",
       "      <td id=\"T_9d643_row2_col10\" class=\"data row2 col10\" >SHOT</td>\n",
       "      <td id=\"T_9d643_row2_col11\" class=\"data row2 col11\" >EV</td>\n",
       "    </tr>\n",
       "    <tr>\n",
       "      <th id=\"T_9d643_level0_row3\" class=\"row_heading level0 row3\" >freq</th>\n",
       "      <td id=\"T_9d643_row3_col0\" class=\"data row3 col0\" >6094</td>\n",
       "      <td id=\"T_9d643_row3_col1\" class=\"data row3 col1\" >30</td>\n",
       "      <td id=\"T_9d643_row3_col2\" class=\"data row3 col2\" >8195</td>\n",
       "      <td id=\"T_9d643_row3_col3\" class=\"data row3 col3\" >2633</td>\n",
       "      <td id=\"T_9d643_row3_col4\" class=\"data row3 col4\" >700</td>\n",
       "      <td id=\"T_9d643_row3_col5\" class=\"data row3 col5\" >151637</td>\n",
       "      <td id=\"T_9d643_row3_col6\" class=\"data row3 col6\" >3434</td>\n",
       "      <td id=\"T_9d643_row3_col7\" class=\"data row3 col7\" >81326</td>\n",
       "      <td id=\"T_9d643_row3_col8\" class=\"data row3 col8\" >6619</td>\n",
       "      <td id=\"T_9d643_row3_col9\" class=\"data row3 col9\" >6243</td>\n",
       "      <td id=\"T_9d643_row3_col10\" class=\"data row3 col10\" >80648</td>\n",
       "      <td id=\"T_9d643_row3_col11\" class=\"data row3 col11\" >128438</td>\n",
       "    </tr>\n",
       "  </tbody>\n",
       "</table>\n"
      ],
      "text/plain": [
       "<pandas.io.formats.style.Styler at 0x144a9fa10d0>"
      ]
     },
     "execution_count": 7,
     "metadata": {},
     "output_type": "execute_result"
    }
   ],
   "source": [
    "df[categorical_features].loc[:,:].describe().style.background_gradient(cmap='Greys')"
   ]
  },
  {
   "cell_type": "code",
   "execution_count": 8,
   "metadata": {},
   "outputs": [
    {
     "data": {
      "text/html": [
       "<div>\n",
       "<style scoped>\n",
       "    .dataframe tbody tr th:only-of-type {\n",
       "        vertical-align: middle;\n",
       "    }\n",
       "\n",
       "    .dataframe tbody tr th {\n",
       "        vertical-align: top;\n",
       "    }\n",
       "\n",
       "    .dataframe thead th {\n",
       "        text-align: right;\n",
       "    }\n",
       "</style>\n",
       "<table border=\"1\" class=\"dataframe\">\n",
       "  <thead>\n",
       "    <tr style=\"text-align: right;\">\n",
       "      <th></th>\n",
       "      <th>game_id</th>\n",
       "      <th>description</th>\n",
       "      <th>shot_outcome</th>\n",
       "      <th>period</th>\n",
       "      <th>period_seconds_remaining</th>\n",
       "      <th>game_seconds_remaining</th>\n",
       "      <th>home_score</th>\n",
       "      <th>away_score</th>\n",
       "      <th>home_name</th>\n",
       "      <th>away_name</th>\n",
       "      <th>...</th>\n",
       "      <th>empty_net</th>\n",
       "      <th>event_player_1_name</th>\n",
       "      <th>event_player_1_type</th>\n",
       "      <th>event_player_2_name</th>\n",
       "      <th>event_player_2_type</th>\n",
       "      <th>strength_code</th>\n",
       "      <th>x_fixed</th>\n",
       "      <th>y_fixed</th>\n",
       "      <th>shot_distance</th>\n",
       "      <th>shot_angle</th>\n",
       "    </tr>\n",
       "  </thead>\n",
       "  <tbody>\n",
       "  </tbody>\n",
       "</table>\n",
       "<p>0 rows × 22 columns</p>\n",
       "</div>"
      ],
      "text/plain": [
       "Empty DataFrame\n",
       "Columns: [game_id, description, shot_outcome, period, period_seconds_remaining, game_seconds_remaining, home_score, away_score, home_name, away_name, event_team, event_goalie_name, empty_net, event_player_1_name, event_player_1_type, event_player_2_name, event_player_2_type, strength_code, x_fixed, y_fixed, shot_distance, shot_angle]\n",
       "Index: []\n",
       "\n",
       "[0 rows x 22 columns]"
      ]
     },
     "execution_count": 8,
     "metadata": {},
     "output_type": "execute_result"
    }
   ],
   "source": [
    "# Check for empty rows\n",
    "empty_rows = df.isna().all(axis=1)\n",
    "df[empty_rows]\n"
   ]
  },
  {
   "cell_type": "markdown",
   "metadata": {},
   "source": [
    "No empty rows detected."
   ]
  },
  {
   "cell_type": "code",
   "execution_count": 9,
   "metadata": {},
   "outputs": [
    {
     "data": {
      "text/html": [
       "<div>\n",
       "<style scoped>\n",
       "    .dataframe tbody tr th:only-of-type {\n",
       "        vertical-align: middle;\n",
       "    }\n",
       "\n",
       "    .dataframe tbody tr th {\n",
       "        vertical-align: top;\n",
       "    }\n",
       "\n",
       "    .dataframe thead th {\n",
       "        text-align: right;\n",
       "    }\n",
       "</style>\n",
       "<table border=\"1\" class=\"dataframe\">\n",
       "  <thead>\n",
       "    <tr style=\"text-align: right;\">\n",
       "      <th></th>\n",
       "      <th>game_id</th>\n",
       "      <th>description</th>\n",
       "      <th>shot_outcome</th>\n",
       "      <th>period</th>\n",
       "      <th>period_seconds_remaining</th>\n",
       "      <th>game_seconds_remaining</th>\n",
       "      <th>home_score</th>\n",
       "      <th>away_score</th>\n",
       "      <th>home_name</th>\n",
       "      <th>away_name</th>\n",
       "      <th>...</th>\n",
       "      <th>empty_net</th>\n",
       "      <th>event_player_1_name</th>\n",
       "      <th>event_player_1_type</th>\n",
       "      <th>event_player_2_name</th>\n",
       "      <th>event_player_2_type</th>\n",
       "      <th>strength_code</th>\n",
       "      <th>x_fixed</th>\n",
       "      <th>y_fixed</th>\n",
       "      <th>shot_distance</th>\n",
       "      <th>shot_angle</th>\n",
       "    </tr>\n",
       "  </thead>\n",
       "  <tbody>\n",
       "    <tr>\n",
       "      <th>139212</th>\n",
       "      <td>2021021223</td>\n",
       "      <td>Ben Chiarot Backhand saved by Ilya Sorokin</td>\n",
       "      <td>SHOT</td>\n",
       "      <td>2</td>\n",
       "      <td>742</td>\n",
       "      <td>1942</td>\n",
       "      <td>1</td>\n",
       "      <td>0</td>\n",
       "      <td>New York Islanders</td>\n",
       "      <td>Florida Panthers</td>\n",
       "      <td>...</td>\n",
       "      <td>NaN</td>\n",
       "      <td>Ben.Chiarot</td>\n",
       "      <td>Shooter</td>\n",
       "      <td>Ilya.Sorokin</td>\n",
       "      <td>Goalie</td>\n",
       "      <td>EV</td>\n",
       "      <td>-85.0</td>\n",
       "      <td>-6.0</td>\n",
       "      <td>7.2</td>\n",
       "      <td>56.3</td>\n",
       "    </tr>\n",
       "  </tbody>\n",
       "</table>\n",
       "<p>1 rows × 22 columns</p>\n",
       "</div>"
      ],
      "text/plain": [
       "           game_id                                 description shot_outcome  \\\n",
       "139212  2021021223  Ben Chiarot Backhand saved by Ilya Sorokin         SHOT   \n",
       "\n",
       "        period  period_seconds_remaining  game_seconds_remaining  home_score  \\\n",
       "139212       2                       742                    1942           1   \n",
       "\n",
       "        away_score           home_name         away_name  ... empty_net  \\\n",
       "139212           0  New York Islanders  Florida Panthers  ...       NaN   \n",
       "\n",
       "       event_player_1_name event_player_1_type event_player_2_name  \\\n",
       "139212         Ben.Chiarot             Shooter        Ilya.Sorokin   \n",
       "\n",
       "       event_player_2_type strength_code x_fixed y_fixed  shot_distance  \\\n",
       "139212              Goalie            EV   -85.0    -6.0            7.2   \n",
       "\n",
       "        shot_angle  \n",
       "139212        56.3  \n",
       "\n",
       "[1 rows x 22 columns]"
      ]
     },
     "execution_count": 9,
     "metadata": {},
     "output_type": "execute_result"
    }
   ],
   "source": [
    "#check duplicates\n",
    "df[df.duplicated]"
   ]
  },
  {
   "cell_type": "code",
   "execution_count": 10,
   "metadata": {},
   "outputs": [],
   "source": [
    "#remove duplicates\n",
    "df.drop_duplicates(inplace=True) "
   ]
  },
  {
   "cell_type": "code",
   "execution_count": 11,
   "metadata": {},
   "outputs": [
    {
     "data": {
      "text/plain": [
       "game_id                          0\n",
       "description                      0\n",
       "shot_outcome                     0\n",
       "period                           0\n",
       "period_seconds_remaining         0\n",
       "game_seconds_remaining           0\n",
       "home_score                       0\n",
       "away_score                       0\n",
       "home_name                        0\n",
       "away_name                        0\n",
       "event_team                       0\n",
       "event_goalie_name            71509\n",
       "empty_net                   151860\n",
       "event_player_1_name              0\n",
       "event_player_1_type              0\n",
       "event_player_2_name            374\n",
       "event_player_2_type            374\n",
       "strength_code                  306\n",
       "x_fixed                         13\n",
       "y_fixed                         13\n",
       "shot_distance                38224\n",
       "shot_angle                   38224\n",
       "dtype: int64"
      ]
     },
     "execution_count": 11,
     "metadata": {},
     "output_type": "execute_result"
    }
   ],
   "source": [
    "#check missing values\n",
    "df.isnull().sum()"
   ]
  },
  {
   "cell_type": "markdown",
   "metadata": {},
   "source": [
    "## Corolation Analysis"
   ]
  },
  {
   "cell_type": "code",
   "execution_count": 12,
   "metadata": {},
   "outputs": [
    {
     "name": "stdout",
     "output_type": "stream",
     "text": [
      "<class 'pandas.core.frame.DataFrame'>\n",
      "Index: 160572 entries, 0 to 160572\n",
      "Data columns (total 22 columns):\n",
      " #   Column                    Non-Null Count   Dtype  \n",
      "---  ------                    --------------   -----  \n",
      " 0   game_id                   160572 non-null  int64  \n",
      " 1   description               160572 non-null  object \n",
      " 2   shot_outcome              160572 non-null  object \n",
      " 3   period                    160572 non-null  int64  \n",
      " 4   period_seconds_remaining  160572 non-null  int64  \n",
      " 5   game_seconds_remaining    160572 non-null  int64  \n",
      " 6   home_score                160572 non-null  int64  \n",
      " 7   away_score                160572 non-null  int64  \n",
      " 8   home_name                 160572 non-null  object \n",
      " 9   away_name                 160572 non-null  object \n",
      " 10  event_team                160572 non-null  object \n",
      " 11  event_goalie_name         89063 non-null   object \n",
      " 12  empty_net                 8712 non-null    object \n",
      " 13  event_player_1_name       160572 non-null  object \n",
      " 14  event_player_1_type       160572 non-null  object \n",
      " 15  event_player_2_name       160198 non-null  object \n",
      " 16  event_player_2_type       160198 non-null  object \n",
      " 17  strength_code             160266 non-null  object \n",
      " 18  x_fixed                   160559 non-null  float64\n",
      " 19  y_fixed                   160559 non-null  float64\n",
      " 20  shot_distance             122348 non-null  float64\n",
      " 21  shot_angle                122348 non-null  float64\n",
      "dtypes: float64(4), int64(6), object(12)\n",
      "memory usage: 28.2+ MB\n"
     ]
    }
   ],
   "source": [
    "df.info()"
   ]
  },
  {
   "cell_type": "code",
   "execution_count": 13,
   "metadata": {},
   "outputs": [
    {
     "data": {
      "text/plain": [
       "event_player_1_type\n",
       "Shooter    151636\n",
       "Scorer       8936\n",
       "Name: count, dtype: int64"
      ]
     },
     "execution_count": 13,
     "metadata": {},
     "output_type": "execute_result"
    }
   ],
   "source": [
    "df['event_player_1_type'].value_counts()"
   ]
  },
  {
   "cell_type": "code",
   "execution_count": null,
   "metadata": {},
   "outputs": [],
   "source": [
    "encoder ="
   ]
  },
  {
   "cell_type": "code",
   "execution_count": 15,
   "metadata": {},
   "outputs": [
    {
     "ename": "ValueError",
     "evalue": "could not convert string to float: 'Steven Stamkos Wrist Shot saved by Tristan Jarry'",
     "output_type": "error",
     "traceback": [
      "\u001b[1;31m---------------------------------------------------------------------------\u001b[0m",
      "\u001b[1;31mValueError\u001b[0m                                Traceback (most recent call last)",
      "Cell \u001b[1;32mIn[15], line 3\u001b[0m\n\u001b[0;32m      1\u001b[0m \u001b[38;5;66;03m# Correlation with the target variable\u001b[39;00m\n\u001b[1;32m----> 3\u001b[0m correlation_matrix \u001b[38;5;241m=\u001b[39m \u001b[43mdf\u001b[49m\u001b[38;5;241;43m.\u001b[39;49m\u001b[43mcorr\u001b[49m\u001b[43m(\u001b[49m\u001b[43m)\u001b[49m\n\u001b[0;32m      5\u001b[0m target_corr \u001b[38;5;241m=\u001b[39m correlation_matrix[\u001b[38;5;124m'\u001b[39m\u001b[38;5;124mshot_outcome\u001b[39m\u001b[38;5;124m'\u001b[39m]\u001b[38;5;241m.\u001b[39msort_values(ascending\u001b[38;5;241m=\u001b[39m\u001b[38;5;28;01mFalse\u001b[39;00m)\n\u001b[0;32m      6\u001b[0m \u001b[38;5;28mprint\u001b[39m(target_corr)\n",
      "File \u001b[1;32mc:\\Users\\NURŞAH SATILMIŞ\\AppData\\Local\\Programs\\Python\\Python311\\Lib\\site-packages\\pandas\\core\\frame.py:11049\u001b[0m, in \u001b[0;36mDataFrame.corr\u001b[1;34m(self, method, min_periods, numeric_only)\u001b[0m\n\u001b[0;32m  11047\u001b[0m cols \u001b[38;5;241m=\u001b[39m data\u001b[38;5;241m.\u001b[39mcolumns\n\u001b[0;32m  11048\u001b[0m idx \u001b[38;5;241m=\u001b[39m cols\u001b[38;5;241m.\u001b[39mcopy()\n\u001b[1;32m> 11049\u001b[0m mat \u001b[38;5;241m=\u001b[39m \u001b[43mdata\u001b[49m\u001b[38;5;241;43m.\u001b[39;49m\u001b[43mto_numpy\u001b[49m\u001b[43m(\u001b[49m\u001b[43mdtype\u001b[49m\u001b[38;5;241;43m=\u001b[39;49m\u001b[38;5;28;43mfloat\u001b[39;49m\u001b[43m,\u001b[49m\u001b[43m \u001b[49m\u001b[43mna_value\u001b[49m\u001b[38;5;241;43m=\u001b[39;49m\u001b[43mnp\u001b[49m\u001b[38;5;241;43m.\u001b[39;49m\u001b[43mnan\u001b[49m\u001b[43m,\u001b[49m\u001b[43m \u001b[49m\u001b[43mcopy\u001b[49m\u001b[38;5;241;43m=\u001b[39;49m\u001b[38;5;28;43;01mFalse\u001b[39;49;00m\u001b[43m)\u001b[49m\n\u001b[0;32m  11051\u001b[0m \u001b[38;5;28;01mif\u001b[39;00m method \u001b[38;5;241m==\u001b[39m \u001b[38;5;124m\"\u001b[39m\u001b[38;5;124mpearson\u001b[39m\u001b[38;5;124m\"\u001b[39m:\n\u001b[0;32m  11052\u001b[0m     correl \u001b[38;5;241m=\u001b[39m libalgos\u001b[38;5;241m.\u001b[39mnancorr(mat, minp\u001b[38;5;241m=\u001b[39mmin_periods)\n",
      "File \u001b[1;32mc:\\Users\\NURŞAH SATILMIŞ\\AppData\\Local\\Programs\\Python\\Python311\\Lib\\site-packages\\pandas\\core\\frame.py:1993\u001b[0m, in \u001b[0;36mDataFrame.to_numpy\u001b[1;34m(self, dtype, copy, na_value)\u001b[0m\n\u001b[0;32m   1991\u001b[0m \u001b[38;5;28;01mif\u001b[39;00m dtype \u001b[38;5;129;01mis\u001b[39;00m \u001b[38;5;129;01mnot\u001b[39;00m \u001b[38;5;28;01mNone\u001b[39;00m:\n\u001b[0;32m   1992\u001b[0m     dtype \u001b[38;5;241m=\u001b[39m np\u001b[38;5;241m.\u001b[39mdtype(dtype)\n\u001b[1;32m-> 1993\u001b[0m result \u001b[38;5;241m=\u001b[39m \u001b[38;5;28;43mself\u001b[39;49m\u001b[38;5;241;43m.\u001b[39;49m\u001b[43m_mgr\u001b[49m\u001b[38;5;241;43m.\u001b[39;49m\u001b[43mas_array\u001b[49m\u001b[43m(\u001b[49m\u001b[43mdtype\u001b[49m\u001b[38;5;241;43m=\u001b[39;49m\u001b[43mdtype\u001b[49m\u001b[43m,\u001b[49m\u001b[43m \u001b[49m\u001b[43mcopy\u001b[49m\u001b[38;5;241;43m=\u001b[39;49m\u001b[43mcopy\u001b[49m\u001b[43m,\u001b[49m\u001b[43m \u001b[49m\u001b[43mna_value\u001b[49m\u001b[38;5;241;43m=\u001b[39;49m\u001b[43mna_value\u001b[49m\u001b[43m)\u001b[49m\n\u001b[0;32m   1994\u001b[0m \u001b[38;5;28;01mif\u001b[39;00m result\u001b[38;5;241m.\u001b[39mdtype \u001b[38;5;129;01mis\u001b[39;00m \u001b[38;5;129;01mnot\u001b[39;00m dtype:\n\u001b[0;32m   1995\u001b[0m     result \u001b[38;5;241m=\u001b[39m np\u001b[38;5;241m.\u001b[39masarray(result, dtype\u001b[38;5;241m=\u001b[39mdtype)\n",
      "File \u001b[1;32mc:\\Users\\NURŞAH SATILMIŞ\\AppData\\Local\\Programs\\Python\\Python311\\Lib\\site-packages\\pandas\\core\\internals\\managers.py:1694\u001b[0m, in \u001b[0;36mBlockManager.as_array\u001b[1;34m(self, dtype, copy, na_value)\u001b[0m\n\u001b[0;32m   1692\u001b[0m         arr\u001b[38;5;241m.\u001b[39mflags\u001b[38;5;241m.\u001b[39mwriteable \u001b[38;5;241m=\u001b[39m \u001b[38;5;28;01mFalse\u001b[39;00m\n\u001b[0;32m   1693\u001b[0m \u001b[38;5;28;01melse\u001b[39;00m:\n\u001b[1;32m-> 1694\u001b[0m     arr \u001b[38;5;241m=\u001b[39m \u001b[38;5;28;43mself\u001b[39;49m\u001b[38;5;241;43m.\u001b[39;49m\u001b[43m_interleave\u001b[49m\u001b[43m(\u001b[49m\u001b[43mdtype\u001b[49m\u001b[38;5;241;43m=\u001b[39;49m\u001b[43mdtype\u001b[49m\u001b[43m,\u001b[49m\u001b[43m \u001b[49m\u001b[43mna_value\u001b[49m\u001b[38;5;241;43m=\u001b[39;49m\u001b[43mna_value\u001b[49m\u001b[43m)\u001b[49m\n\u001b[0;32m   1695\u001b[0m     \u001b[38;5;66;03m# The underlying data was copied within _interleave, so no need\u001b[39;00m\n\u001b[0;32m   1696\u001b[0m     \u001b[38;5;66;03m# to further copy if copy=True or setting na_value\u001b[39;00m\n\u001b[0;32m   1698\u001b[0m \u001b[38;5;28;01mif\u001b[39;00m na_value \u001b[38;5;129;01mis\u001b[39;00m lib\u001b[38;5;241m.\u001b[39mno_default:\n",
      "File \u001b[1;32mc:\\Users\\NURŞAH SATILMIŞ\\AppData\\Local\\Programs\\Python\\Python311\\Lib\\site-packages\\pandas\\core\\internals\\managers.py:1753\u001b[0m, in \u001b[0;36mBlockManager._interleave\u001b[1;34m(self, dtype, na_value)\u001b[0m\n\u001b[0;32m   1751\u001b[0m     \u001b[38;5;28;01melse\u001b[39;00m:\n\u001b[0;32m   1752\u001b[0m         arr \u001b[38;5;241m=\u001b[39m blk\u001b[38;5;241m.\u001b[39mget_values(dtype)\n\u001b[1;32m-> 1753\u001b[0m     \u001b[43mresult\u001b[49m\u001b[43m[\u001b[49m\u001b[43mrl\u001b[49m\u001b[38;5;241;43m.\u001b[39;49m\u001b[43mindexer\u001b[49m\u001b[43m]\u001b[49m \u001b[38;5;241m=\u001b[39m arr\n\u001b[0;32m   1754\u001b[0m     itemmask[rl\u001b[38;5;241m.\u001b[39mindexer] \u001b[38;5;241m=\u001b[39m \u001b[38;5;241m1\u001b[39m\n\u001b[0;32m   1756\u001b[0m \u001b[38;5;28;01mif\u001b[39;00m \u001b[38;5;129;01mnot\u001b[39;00m itemmask\u001b[38;5;241m.\u001b[39mall():\n",
      "\u001b[1;31mValueError\u001b[0m: could not convert string to float: 'Steven Stamkos Wrist Shot saved by Tristan Jarry'"
     ]
    }
   ],
   "source": [
    "# Correlation with the target variable\n",
    "\n",
    "correlation_matrix = df.corr()\n",
    "\n",
    "target_corr = correlation_matrix['shot_outcome'].sort_values(ascending=False)\n",
    "print(target_corr)\n"
   ]
  },
  {
   "cell_type": "code",
   "execution_count": null,
   "metadata": {},
   "outputs": [
    {
     "name": "stderr",
     "output_type": "stream",
     "text": [
      "c:\\Users\\NURŞAH SATILMIŞ\\AppData\\Local\\Programs\\Python\\Python311\\Lib\\site-packages\\seaborn\\matrix.py:260: FutureWarning: Format strings passed to MaskedConstant are ignored, but in future may error or produce different behavior\n",
      "  annotation = (\"{:\" + self.fmt + \"}\").format(val)\n"
     ]
    },
    {
     "data": {
      "image/png": "[encoded data removed]",
      "text/plain": [
       "<Figure size 1200x800 with 2 Axes>"
      ]
     },
     "metadata": {},
     "output_type": "display_data"
    }
   ],
   "source": [
    "import pandas as pd\n",
    "import seaborn as sns\n",
    "import matplotlib.pyplot as plt\n",
    "\n",
    "# Calculate correlation matrix\n",
    "correlation_matrix = df_encoded.corr()\n",
    "\n",
    "# Plot the heatmap\n",
    "plt.figure(figsize=(12, 8))  # Adjust figure size as needed\n",
    "sns.heatmap(correlation_matrix, annot=True, fmt=\".2f\", cmap=\"coolwarm\", cbar=True)\n",
    "\n",
    "# Add title for better readability\n",
    "plt.title(\"Correlation Matrix Heatmap\", fontsize=16)\n",
    "plt.xticks(rotation=45, ha='right')  # Rotate x-axis labels for readability\n",
    "plt.yticks(rotation=0)  # Ensure y-axis labels are horizontal\n",
    "plt.tight_layout()  # Avoid clipping labels\n",
    "plt.show()\n",
    "\n",
    "\n",
    "\n",
    "# Create a mask for the upper triangle\n",
    "mask = np.triu(np.ones_like(corr_matrix, dtype=bool))\n",
    "\n",
    "# Set up the matplotlib figure\n",
    "plt.figure(figsize=(10, 8))\n",
    "\n",
    "# Draw the heatmap with the mask applied\n",
    "sns.heatmap(corr_matrix, mask=mask, cmap=\"coolwarm\", annot=True, fmt=\".2f\", \n",
    "            cbar_kws={\"shrink\": 0.8})\n",
    "\n",
    "# Customize the title and display\n",
    "plt.title(\"Correlation Matrix Heatmap (Lower Triangle)\")\n",
    "plt.xticks(rotation=45, ha=\"right\")\n",
    "plt.yticks(rotation=0)\n",
    "plt.show()\n",
    "\n"
   ]
  },
  {
   "cell_type": "code",
   "execution_count": null,
   "metadata": {},
   "outputs": [
    {
     "data": {
      "text/plain": [
       "<Axes: >"
      ]
     },
     "execution_count": 87,
     "metadata": {},
     "output_type": "execute_result"
    },
    {
     "data": {
      "image/png": "[encoded data removed]",
      "text/plain": [
       "<Figure size 640x480 with 2 Axes>"
      ]
     },
     "metadata": {},
     "output_type": "display_data"
    }
   ],
   "source": [
    "from sklearn.preprocessing import StandardScaler\n",
    "\n",
    "scaler = StandardScaler()\n",
    "scaled_data = scaler.fit_transform(df_encoded)\n",
    "corr_matrix = pd.DataFrame(normalized_data).corr()\n",
    "sns.heatmap(corr_matrix, annot=True, cmap=\"coolwarm\")\n"
   ]
  },
  {
   "cell_type": "code",
   "execution_count": null,
   "metadata": {},
   "outputs": [
    {
     "name": "stdout",
     "output_type": "stream",
     "text": [
      "                     Feature  Importance\n",
      "15       event_player_2_type    0.348926\n",
      "10         event_goalie_name    0.287523\n",
      "19             shot_distance    0.136259\n",
      "20                shot_angle    0.116959\n",
      "13       event_player_1_type    0.052236\n",
      "11                 empty_net    0.050294\n",
      "18                   y_fixed    0.002035\n",
      "17                   x_fixed    0.001835\n",
      "14       event_player_2_name    0.001810\n",
      "3   period_seconds_remaining    0.000410\n",
      "16             strength_code    0.000361\n",
      "4     game_seconds_remaining    0.000311\n",
      "5                 home_score    0.000233\n",
      "2                     period    0.000213\n",
      "6                 away_score    0.000191\n",
      "1                description    0.000098\n",
      "7                  home_name    0.000068\n",
      "8                  away_name    0.000063\n",
      "0                    game_id    0.000062\n",
      "12       event_player_1_name    0.000061\n",
      "9                 event_team    0.000051\n"
     ]
    },
    {
     "data": {
      "image/png": "[encoded data removed]",
      "text/plain": [
       "<Figure size 1000x600 with 1 Axes>"
      ]
     },
     "metadata": {},
     "output_type": "display_data"
    },
    {
     "name": "stdout",
     "output_type": "stream",
     "text": [
      "                     Feature  Importance\n",
      "10         event_goalie_name    0.335760\n",
      "13       event_player_1_type    0.031680\n",
      "15       event_player_2_type    0.024590\n",
      "11                 empty_net    0.005423\n",
      "19             shot_distance    0.000000\n",
      "18                   y_fixed    0.000000\n",
      "17                   x_fixed    0.000000\n",
      "16             strength_code    0.000000\n",
      "14       event_player_2_name    0.000000\n",
      "12       event_player_1_name    0.000000\n",
      "0                    game_id    0.000000\n",
      "1                description    0.000000\n",
      "9                 event_team    0.000000\n",
      "8                  away_name    0.000000\n",
      "7                  home_name    0.000000\n",
      "6                 away_score    0.000000\n",
      "5                 home_score    0.000000\n",
      "4     game_seconds_remaining    0.000000\n",
      "3   period_seconds_remaining    0.000000\n",
      "2                     period    0.000000\n",
      "20                shot_angle    0.000000\n"
     ]
    },
    {
     "data": {
      "image/png": "[encoded data removed]",
      "text/plain": [
       "<Figure size 1000x600 with 1 Axes>"
      ]
     },
     "metadata": {},
     "output_type": "display_data"
    }
   ],
   "source": [
    "from sklearn.ensemble import RandomForestClassifier\n",
    "import pandas as pd\n",
    "from sklearn.inspection import permutation_importance\n",
    "\n",
    "import numpy as np\n",
    "\n",
    "# Sample data (replace with your dataset)\n",
    "X = df_encoded.drop(columns=['shot_outcome'])  # Features\n",
    "y = df_encoded['shot_outcome']                # Target\n",
    "\n",
    "# Train a Random Forest model\n",
    "rf = RandomForestClassifier(random_state=42)\n",
    "rf.fit(X, y)\n",
    "\n",
    "# Get feature importance scores\n",
    "feature_importances = pd.DataFrame({\n",
    "    'Feature': X.columns,\n",
    "    'Importance': rf.feature_importances_\n",
    "}).sort_values(by='Importance', ascending=False)\n",
    "\n",
    "# Display feature importance\n",
    "print(feature_importances)\n",
    "\n",
    "# Visualize feature importance\n",
    "import matplotlib.pyplot as plt\n",
    "plt.figure(figsize=(10, 6))\n",
    "plt.barh(feature_importances['Feature'], feature_importances['Importance'], color='skyblue')\n",
    "plt.xlabel('Feature Importance Score')\n",
    "plt.ylabel('Features')\n",
    "plt.title('Feature Importance')\n",
    "plt.gca().invert_yaxis()  # Highest importance at the top\n",
    "plt.show()\n",
    "\n",
    "\n",
    "# Compute permutation importance\n",
    "perm_importance = permutation_importance(rf, X, y, scoring='accuracy')\n",
    "\n",
    "# Convert to DataFrame\n",
    "perm_importance_df = pd.DataFrame({\n",
    "    'Feature': X.columns,\n",
    "    'Importance': perm_importance.importances_mean\n",
    "}).sort_values(by='Importance', ascending=False)\n",
    "\n",
    "# Display permutation importance\n",
    "print(perm_importance_df)\n",
    "\n",
    "# Visualize\n",
    "plt.figure(figsize=(10, 6))\n",
    "plt.barh(perm_importance_df['Feature'], perm_importance_df['Importance'], color='orange')\n",
    "plt.xlabel('Permutation Importance Score')\n",
    "plt.ylabel('Features')\n",
    "plt.title('Permutation Importance')\n",
    "plt.gca().invert_yaxis()\n",
    "plt.show()"
   ]
  },
  {
   "cell_type": "markdown",
   "metadata": {},
   "source": [
    "### Remove no related columns "
   ]
  },
  {
   "cell_type": "code",
   "execution_count": null,
   "metadata": {},
   "outputs": [],
   "source": [
    "important_features = ['event_player_2_type','event_goalie_name','shot_distance'  ,'shot_angle' ,'event_player_1_type','empty_net', 'y_fixed','x_fixed','event_player_2name' ]\n"
   ]
  },
  {
   "cell_type": "markdown",
   "metadata": {},
   "source": [
    "## Handling missing values on the ımportant features"
   ]
  },
  {
   "cell_type": "code",
   "execution_count": null,
   "metadata": {},
   "outputs": [
    {
     "data": {
      "text/plain": [
       "empty_net\n",
       "False    8195\n",
       "True      517\n",
       "Name: count, dtype: int64"
      ]
     },
     "execution_count": 17,
     "metadata": {},
     "output_type": "execute_result"
    }
   ],
   "source": [
    "df['empty_net'].value_counts()"
   ]
  },
  {
   "cell_type": "code",
   "execution_count": null,
   "metadata": {},
   "outputs": [
    {
     "name": "stderr",
     "output_type": "stream",
     "text": [
      "C:\\Users\\NURŞAH SATILMIŞ\\AppData\\Local\\Temp\\ipykernel_30400\\1553471446.py:2: FutureWarning: Downcasting object dtype arrays on .fillna, .ffill, .bfill is deprecated and will change in a future version. Call result.infer_objects(copy=False) instead. To opt-in to the future behavior, set `pd.set_option('future.no_silent_downcasting', True)`\n",
      "  df['empty_net'] = df['empty_net'].fillna(False)\n"
     ]
    }
   ],
   "source": [
    "# Fill NaN values with boolean False, then infer objects to avoid warnings\n",
    "df['empty_net'] = df['empty_net'].fillna(False)\n",
    "df['empty_net'] = df['empty_net'].infer_objects()\n",
    "df['empty_net'] = df['empty_net'].astype(bool)"
   ]
  },
  {
   "cell_type": "code",
   "execution_count": null,
   "metadata": {},
   "outputs": [
    {
     "data": {
      "text/plain": [
       "empty_net\n",
       "False    160055\n",
       "True        517\n",
       "Name: count, dtype: int64"
      ]
     },
     "execution_count": 19,
     "metadata": {},
     "output_type": "execute_result"
    }
   ],
   "source": [
    "df['empty_net'].value_counts()"
   ]
  },
  {
   "cell_type": "code",
   "execution_count": null,
   "metadata": {},
   "outputs": [
    {
     "data": {
      "text/plain": [
       "0"
      ]
     },
     "execution_count": 20,
     "metadata": {},
     "output_type": "execute_result"
    }
   ],
   "source": [
    "df['empty_net'].isnull().sum()"
   ]
  },
  {
   "cell_type": "markdown",
   "metadata": {},
   "source": [
    "`event_goalie_name`    : String name of goalie/ goalkeeper (if in net) \n",
    "it related to empthy_net features , we should ınvestigate both"
   ]
  },
  {
   "cell_type": "code",
   "execution_count": null,
   "metadata": {},
   "outputs": [
    {
     "data": {
      "text/plain": [
       "71509"
      ]
     },
     "execution_count": 21,
     "metadata": {},
     "output_type": "execute_result"
    }
   ],
   "source": [
    "# Look at the values\n",
    "df['event_goalie_name'].isnull().sum()"
   ]
  },
  {
   "cell_type": "code",
   "execution_count": null,
   "metadata": {},
   "outputs": [
    {
     "data": {
      "text/plain": [
       "empty_net\n",
       "False    70992\n",
       "True       517\n",
       "Name: count, dtype: int64"
      ]
     },
     "execution_count": 22,
     "metadata": {},
     "output_type": "execute_result"
    }
   ],
   "source": [
    "# filter the part of 'event_goalie name' is missing\n",
    "temp = df[df['event_goalie_name'].isnull()] \n",
    "temp['empty_net'].value_counts()"
   ]
  },
  {
   "cell_type": "markdown",
   "metadata": {},
   "source": [
    "Out of 71,526 instances, 517 missing `event_goalie_name` values indicate situations where there was actually nobody in the net. We can impute these values with 'nobody' to signify an empty net scenario. However, the reason for the remaining missing values is unknown.\""
   ]
  },
  {
   "cell_type": "code",
   "execution_count": null,
   "metadata": {},
   "outputs": [],
   "source": [
    "# Fill missing 'event_goalie_name' values with 'nobody' where 'empty_net' is True \n",
    "df.loc[(df['event_goalie_name'].isnull()) & (df['empty_net'] == True), 'event_goalie_name'] = 'nobody'\n"
   ]
  },
  {
   "cell_type": "code",
   "execution_count": null,
   "metadata": {},
   "outputs": [
    {
     "data": {
      "text/plain": [
       "70992"
      ]
     },
     "execution_count": 24,
     "metadata": {},
     "output_type": "execute_result"
    }
   ],
   "source": [
    "df['event_goalie_name'].isnull().sum()"
   ]
  },
  {
   "cell_type": "markdown",
   "metadata": {},
   "source": [
    "517 of missing values was handled. by \"nobody\" label which indicates nobody save net."
   ]
  },
  {
   "cell_type": "code",
   "execution_count": null,
   "metadata": {},
   "outputs": [],
   "source": [
    "df['event_goalie_name'] = df['event_goalie_name'].fillna('Unknown')"
   ]
  },
  {
   "cell_type": "code",
   "execution_count": null,
   "metadata": {},
   "outputs": [
    {
     "data": {
      "text/plain": [
       "0"
      ]
     },
     "execution_count": 26,
     "metadata": {},
     "output_type": "execute_result"
    }
   ],
   "source": [
    "df['event_goalie_name'].isnull().sum()"
   ]
  },
  {
   "cell_type": "markdown",
   "metadata": {},
   "source": [
    "Other missing values filled by \"unknown\" , it indicates that we do not know the golie name or whether was there a golie or not ."
   ]
  },
  {
   "cell_type": "markdown",
   "metadata": {},
   "source": [
    "`event_player_2_name` :  String name of the secondary event player                                                                     \n",
    "`event_player_2_type` : String indicator for the role of event_player_2 (blocker, assist, or goalie)"
   ]
  },
  {
   "cell_type": "code",
   "execution_count": null,
   "metadata": {},
   "outputs": [
    {
     "data": {
      "text/plain": [
       "game_id                       0\n",
       "description                   0\n",
       "shot_outcome                  0\n",
       "period                        0\n",
       "period_seconds_remaining      0\n",
       "game_seconds_remaining        0\n",
       "home_score                    0\n",
       "away_score                    0\n",
       "home_name                     0\n",
       "away_name                     0\n",
       "event_team                    0\n",
       "event_goalie_name             0\n",
       "empty_net                     0\n",
       "event_player_1_name           0\n",
       "event_player_1_type           0\n",
       "event_player_2_name         374\n",
       "event_player_2_type         374\n",
       "strength_code                 0\n",
       "x_fixed                       0\n",
       "y_fixed                       0\n",
       "shot_distance                 0\n",
       "shot_angle                    0\n",
       "dtype: int64"
      ]
     },
     "execution_count": 27,
     "metadata": {},
     "output_type": "execute_result"
    }
   ],
   "source": [
    "df[(df['event_player_2_name'].isna())].isnull().sum()\n"
   ]
  },
  {
   "cell_type": "markdown",
   "metadata": {},
   "source": [
    "Where event_player_2_name is missing event_player_2_type is also missing as we expected. We will handle both features together."
   ]
  },
  {
   "cell_type": "code",
   "execution_count": null,
   "metadata": {},
   "outputs": [
    {
     "data": {
      "text/plain": [
       "event_player_2_type\n",
       "Goalie     81325\n",
       "Blocker    38224\n",
       "Unknown    32485\n",
       "Assist      8164\n",
       "Name: count, dtype: int64"
      ]
     },
     "execution_count": 28,
     "metadata": {},
     "output_type": "execute_result"
    }
   ],
   "source": [
    "df['event_player_2_type'].value_counts()"
   ]
  },
  {
   "cell_type": "code",
   "execution_count": null,
   "metadata": {},
   "outputs": [
    {
     "data": {
      "text/html": [
       "<div>\n",
       "<style scoped>\n",
       "    .dataframe tbody tr th:only-of-type {\n",
       "        vertical-align: middle;\n",
       "    }\n",
       "\n",
       "    .dataframe tbody tr th {\n",
       "        vertical-align: top;\n",
       "    }\n",
       "\n",
       "    .dataframe thead th {\n",
       "        text-align: right;\n",
       "    }\n",
       "</style>\n",
       "<table border=\"1\" class=\"dataframe\">\n",
       "  <thead>\n",
       "    <tr style=\"text-align: right;\">\n",
       "      <th></th>\n",
       "      <th>game_id</th>\n",
       "      <th>description</th>\n",
       "      <th>shot_outcome</th>\n",
       "      <th>period</th>\n",
       "      <th>period_seconds_remaining</th>\n",
       "      <th>game_seconds_remaining</th>\n",
       "      <th>home_score</th>\n",
       "      <th>away_score</th>\n",
       "      <th>home_name</th>\n",
       "      <th>away_name</th>\n",
       "      <th>...</th>\n",
       "      <th>empty_net</th>\n",
       "      <th>event_player_1_name</th>\n",
       "      <th>event_player_1_type</th>\n",
       "      <th>event_player_2_name</th>\n",
       "      <th>event_player_2_type</th>\n",
       "      <th>strength_code</th>\n",
       "      <th>x_fixed</th>\n",
       "      <th>y_fixed</th>\n",
       "      <th>shot_distance</th>\n",
       "      <th>shot_angle</th>\n",
       "    </tr>\n",
       "  </thead>\n",
       "  <tbody>\n",
       "    <tr>\n",
       "      <th>19</th>\n",
       "      <td>2021020001</td>\n",
       "      <td>Chad Ruhwedel Wide of Net Andrei Vasilevskiy</td>\n",
       "      <td>MISSED_SHOT</td>\n",
       "      <td>1</td>\n",
       "      <td>702</td>\n",
       "      <td>3102</td>\n",
       "      <td>0</td>\n",
       "      <td>0</td>\n",
       "      <td>Tampa Bay Lightning</td>\n",
       "      <td>Pittsburgh Penguins</td>\n",
       "      <td>...</td>\n",
       "      <td>False</td>\n",
       "      <td>Chad.Ruhwedel</td>\n",
       "      <td>Shooter</td>\n",
       "      <td>Andrei.Vasilevskiy</td>\n",
       "      <td>Unknown</td>\n",
       "      <td>EV</td>\n",
       "      <td>-32.0</td>\n",
       "      <td>35.0</td>\n",
       "      <td>66.9</td>\n",
       "      <td>31.6</td>\n",
       "    </tr>\n",
       "    <tr>\n",
       "      <th>22</th>\n",
       "      <td>2021020001</td>\n",
       "      <td>Victor Hedman Wide of Net Tristan Jarry</td>\n",
       "      <td>MISSED_SHOT</td>\n",
       "      <td>1</td>\n",
       "      <td>465</td>\n",
       "      <td>2865</td>\n",
       "      <td>0</td>\n",
       "      <td>0</td>\n",
       "      <td>Tampa Bay Lightning</td>\n",
       "      <td>Pittsburgh Penguins</td>\n",
       "      <td>...</td>\n",
       "      <td>False</td>\n",
       "      <td>Victor.Hedman</td>\n",
       "      <td>Shooter</td>\n",
       "      <td>Tristan.Jarry</td>\n",
       "      <td>Unknown</td>\n",
       "      <td>EV</td>\n",
       "      <td>48.0</td>\n",
       "      <td>34.0</td>\n",
       "      <td>53.3</td>\n",
       "      <td>39.7</td>\n",
       "    </tr>\n",
       "    <tr>\n",
       "      <th>24</th>\n",
       "      <td>2021020001</td>\n",
       "      <td>Victor Hedman Wide of Net Tristan Jarry</td>\n",
       "      <td>MISSED_SHOT</td>\n",
       "      <td>1</td>\n",
       "      <td>449</td>\n",
       "      <td>2849</td>\n",
       "      <td>0</td>\n",
       "      <td>0</td>\n",
       "      <td>Tampa Bay Lightning</td>\n",
       "      <td>Pittsburgh Penguins</td>\n",
       "      <td>...</td>\n",
       "      <td>False</td>\n",
       "      <td>Victor.Hedman</td>\n",
       "      <td>Shooter</td>\n",
       "      <td>Tristan.Jarry</td>\n",
       "      <td>Unknown</td>\n",
       "      <td>EV</td>\n",
       "      <td>49.0</td>\n",
       "      <td>28.0</td>\n",
       "      <td>48.8</td>\n",
       "      <td>35.0</td>\n",
       "    </tr>\n",
       "    <tr>\n",
       "      <th>26</th>\n",
       "      <td>2021020001</td>\n",
       "      <td>Teddy Blueger Wide of Net Andrei Vasilevskiy</td>\n",
       "      <td>MISSED_SHOT</td>\n",
       "      <td>1</td>\n",
       "      <td>391</td>\n",
       "      <td>2791</td>\n",
       "      <td>0</td>\n",
       "      <td>0</td>\n",
       "      <td>Tampa Bay Lightning</td>\n",
       "      <td>Pittsburgh Penguins</td>\n",
       "      <td>...</td>\n",
       "      <td>False</td>\n",
       "      <td>Teddy.Blueger</td>\n",
       "      <td>Shooter</td>\n",
       "      <td>Andrei.Vasilevskiy</td>\n",
       "      <td>Unknown</td>\n",
       "      <td>EV</td>\n",
       "      <td>-61.0</td>\n",
       "      <td>33.0</td>\n",
       "      <td>43.3</td>\n",
       "      <td>49.7</td>\n",
       "    </tr>\n",
       "    <tr>\n",
       "      <th>28</th>\n",
       "      <td>2021020001</td>\n",
       "      <td>Brian Dumoulin Wide of Net Andrei Vasilevskiy</td>\n",
       "      <td>MISSED_SHOT</td>\n",
       "      <td>1</td>\n",
       "      <td>262</td>\n",
       "      <td>2662</td>\n",
       "      <td>0</td>\n",
       "      <td>0</td>\n",
       "      <td>Tampa Bay Lightning</td>\n",
       "      <td>Pittsburgh Penguins</td>\n",
       "      <td>...</td>\n",
       "      <td>False</td>\n",
       "      <td>Brian.Dumoulin</td>\n",
       "      <td>Shooter</td>\n",
       "      <td>Andrei.Vasilevskiy</td>\n",
       "      <td>Unknown</td>\n",
       "      <td>EV</td>\n",
       "      <td>-37.0</td>\n",
       "      <td>-31.0</td>\n",
       "      <td>60.5</td>\n",
       "      <td>30.8</td>\n",
       "    </tr>\n",
       "    <tr>\n",
       "      <th>...</th>\n",
       "      <td>...</td>\n",
       "      <td>...</td>\n",
       "      <td>...</td>\n",
       "      <td>...</td>\n",
       "      <td>...</td>\n",
       "      <td>...</td>\n",
       "      <td>...</td>\n",
       "      <td>...</td>\n",
       "      <td>...</td>\n",
       "      <td>...</td>\n",
       "      <td>...</td>\n",
       "      <td>...</td>\n",
       "      <td>...</td>\n",
       "      <td>...</td>\n",
       "      <td>...</td>\n",
       "      <td>...</td>\n",
       "      <td>...</td>\n",
       "      <td>...</td>\n",
       "      <td>...</td>\n",
       "      <td>...</td>\n",
       "      <td>...</td>\n",
       "    </tr>\n",
       "    <tr>\n",
       "      <th>160546</th>\n",
       "      <td>2021030416</td>\n",
       "      <td>Nazem Kadri Wide of Net Andrei Vasilevskiy</td>\n",
       "      <td>MISSED_SHOT</td>\n",
       "      <td>3</td>\n",
       "      <td>983</td>\n",
       "      <td>983</td>\n",
       "      <td>1</td>\n",
       "      <td>2</td>\n",
       "      <td>Tampa Bay Lightning</td>\n",
       "      <td>Colorado Avalanche</td>\n",
       "      <td>...</td>\n",
       "      <td>False</td>\n",
       "      <td>Nazem.Kadri</td>\n",
       "      <td>Shooter</td>\n",
       "      <td>Andrei.Vasilevskiy</td>\n",
       "      <td>Unknown</td>\n",
       "      <td>EV</td>\n",
       "      <td>-65.0</td>\n",
       "      <td>-4.0</td>\n",
       "      <td>24.3</td>\n",
       "      <td>9.5</td>\n",
       "    </tr>\n",
       "    <tr>\n",
       "      <th>160551</th>\n",
       "      <td>2021030416</td>\n",
       "      <td>Nazem Kadri Wide of Net Andrei Vasilevskiy</td>\n",
       "      <td>MISSED_SHOT</td>\n",
       "      <td>3</td>\n",
       "      <td>806</td>\n",
       "      <td>806</td>\n",
       "      <td>1</td>\n",
       "      <td>2</td>\n",
       "      <td>Tampa Bay Lightning</td>\n",
       "      <td>Colorado Avalanche</td>\n",
       "      <td>...</td>\n",
       "      <td>False</td>\n",
       "      <td>Nazem.Kadri</td>\n",
       "      <td>Shooter</td>\n",
       "      <td>Andrei.Vasilevskiy</td>\n",
       "      <td>Unknown</td>\n",
       "      <td>EV</td>\n",
       "      <td>-74.0</td>\n",
       "      <td>-1.0</td>\n",
       "      <td>15.0</td>\n",
       "      <td>3.8</td>\n",
       "    </tr>\n",
       "    <tr>\n",
       "      <th>160552</th>\n",
       "      <td>2021030416</td>\n",
       "      <td>Valeri Nichushkin Wide of Net Andrei Vasilevskiy</td>\n",
       "      <td>MISSED_SHOT</td>\n",
       "      <td>3</td>\n",
       "      <td>805</td>\n",
       "      <td>805</td>\n",
       "      <td>1</td>\n",
       "      <td>2</td>\n",
       "      <td>Tampa Bay Lightning</td>\n",
       "      <td>Colorado Avalanche</td>\n",
       "      <td>...</td>\n",
       "      <td>False</td>\n",
       "      <td>Valeri.Nichushkin</td>\n",
       "      <td>Shooter</td>\n",
       "      <td>Andrei.Vasilevskiy</td>\n",
       "      <td>Unknown</td>\n",
       "      <td>EV</td>\n",
       "      <td>-72.0</td>\n",
       "      <td>-11.0</td>\n",
       "      <td>20.2</td>\n",
       "      <td>32.9</td>\n",
       "    </tr>\n",
       "    <tr>\n",
       "      <th>160562</th>\n",
       "      <td>2021030416</td>\n",
       "      <td>Ross Colton Wide of Net Darcy Kuemper</td>\n",
       "      <td>MISSED_SHOT</td>\n",
       "      <td>3</td>\n",
       "      <td>314</td>\n",
       "      <td>314</td>\n",
       "      <td>1</td>\n",
       "      <td>2</td>\n",
       "      <td>Tampa Bay Lightning</td>\n",
       "      <td>Colorado Avalanche</td>\n",
       "      <td>...</td>\n",
       "      <td>False</td>\n",
       "      <td>Ross.Colton</td>\n",
       "      <td>Shooter</td>\n",
       "      <td>Darcy.Kuemper</td>\n",
       "      <td>Unknown</td>\n",
       "      <td>EV</td>\n",
       "      <td>73.0</td>\n",
       "      <td>-3.0</td>\n",
       "      <td>16.3</td>\n",
       "      <td>10.6</td>\n",
       "    </tr>\n",
       "    <tr>\n",
       "      <th>160566</th>\n",
       "      <td>2021030416</td>\n",
       "      <td>Darren Helm Wide of Net Andrei Vasilevskiy</td>\n",
       "      <td>MISSED_SHOT</td>\n",
       "      <td>3</td>\n",
       "      <td>208</td>\n",
       "      <td>208</td>\n",
       "      <td>1</td>\n",
       "      <td>2</td>\n",
       "      <td>Tampa Bay Lightning</td>\n",
       "      <td>Colorado Avalanche</td>\n",
       "      <td>...</td>\n",
       "      <td>False</td>\n",
       "      <td>Darren.Helm</td>\n",
       "      <td>Shooter</td>\n",
       "      <td>Andrei.Vasilevskiy</td>\n",
       "      <td>Unknown</td>\n",
       "      <td>EV</td>\n",
       "      <td>-48.0</td>\n",
       "      <td>4.0</td>\n",
       "      <td>41.2</td>\n",
       "      <td>5.6</td>\n",
       "    </tr>\n",
       "  </tbody>\n",
       "</table>\n",
       "<p>32485 rows × 22 columns</p>\n",
       "</div>"
      ],
      "text/plain": [
       "           game_id                                       description  \\\n",
       "19      2021020001      Chad Ruhwedel Wide of Net Andrei Vasilevskiy   \n",
       "22      2021020001           Victor Hedman Wide of Net Tristan Jarry   \n",
       "24      2021020001           Victor Hedman Wide of Net Tristan Jarry   \n",
       "26      2021020001      Teddy Blueger Wide of Net Andrei Vasilevskiy   \n",
       "28      2021020001     Brian Dumoulin Wide of Net Andrei Vasilevskiy   \n",
       "...            ...                                               ...   \n",
       "160546  2021030416        Nazem Kadri Wide of Net Andrei Vasilevskiy   \n",
       "160551  2021030416        Nazem Kadri Wide of Net Andrei Vasilevskiy   \n",
       "160552  2021030416  Valeri Nichushkin Wide of Net Andrei Vasilevskiy   \n",
       "160562  2021030416             Ross Colton Wide of Net Darcy Kuemper   \n",
       "160566  2021030416        Darren Helm Wide of Net Andrei Vasilevskiy   \n",
       "\n",
       "       shot_outcome  period  period_seconds_remaining  game_seconds_remaining  \\\n",
       "19      MISSED_SHOT       1                       702                    3102   \n",
       "22      MISSED_SHOT       1                       465                    2865   \n",
       "24      MISSED_SHOT       1                       449                    2849   \n",
       "26      MISSED_SHOT       1                       391                    2791   \n",
       "28      MISSED_SHOT       1                       262                    2662   \n",
       "...             ...     ...                       ...                     ...   \n",
       "160546  MISSED_SHOT       3                       983                     983   \n",
       "160551  MISSED_SHOT       3                       806                     806   \n",
       "160552  MISSED_SHOT       3                       805                     805   \n",
       "160562  MISSED_SHOT       3                       314                     314   \n",
       "160566  MISSED_SHOT       3                       208                     208   \n",
       "\n",
       "        home_score  away_score            home_name            away_name  ...  \\\n",
       "19               0           0  Tampa Bay Lightning  Pittsburgh Penguins  ...   \n",
       "22               0           0  Tampa Bay Lightning  Pittsburgh Penguins  ...   \n",
       "24               0           0  Tampa Bay Lightning  Pittsburgh Penguins  ...   \n",
       "26               0           0  Tampa Bay Lightning  Pittsburgh Penguins  ...   \n",
       "28               0           0  Tampa Bay Lightning  Pittsburgh Penguins  ...   \n",
       "...            ...         ...                  ...                  ...  ...   \n",
       "160546           1           2  Tampa Bay Lightning   Colorado Avalanche  ...   \n",
       "160551           1           2  Tampa Bay Lightning   Colorado Avalanche  ...   \n",
       "160552           1           2  Tampa Bay Lightning   Colorado Avalanche  ...   \n",
       "160562           1           2  Tampa Bay Lightning   Colorado Avalanche  ...   \n",
       "160566           1           2  Tampa Bay Lightning   Colorado Avalanche  ...   \n",
       "\n",
       "       empty_net event_player_1_name  event_player_1_type event_player_2_name  \\\n",
       "19         False       Chad.Ruhwedel              Shooter  Andrei.Vasilevskiy   \n",
       "22         False       Victor.Hedman              Shooter       Tristan.Jarry   \n",
       "24         False       Victor.Hedman              Shooter       Tristan.Jarry   \n",
       "26         False       Teddy.Blueger              Shooter  Andrei.Vasilevskiy   \n",
       "28         False      Brian.Dumoulin              Shooter  Andrei.Vasilevskiy   \n",
       "...          ...                 ...                  ...                 ...   \n",
       "160546     False         Nazem.Kadri              Shooter  Andrei.Vasilevskiy   \n",
       "160551     False         Nazem.Kadri              Shooter  Andrei.Vasilevskiy   \n",
       "160552     False   Valeri.Nichushkin              Shooter  Andrei.Vasilevskiy   \n",
       "160562     False         Ross.Colton              Shooter       Darcy.Kuemper   \n",
       "160566     False         Darren.Helm              Shooter  Andrei.Vasilevskiy   \n",
       "\n",
       "       event_player_2_type strength_code x_fixed y_fixed  shot_distance  \\\n",
       "19                 Unknown            EV   -32.0    35.0           66.9   \n",
       "22                 Unknown            EV    48.0    34.0           53.3   \n",
       "24                 Unknown            EV    49.0    28.0           48.8   \n",
       "26                 Unknown            EV   -61.0    33.0           43.3   \n",
       "28                 Unknown            EV   -37.0   -31.0           60.5   \n",
       "...                    ...           ...     ...     ...            ...   \n",
       "160546             Unknown            EV   -65.0    -4.0           24.3   \n",
       "160551             Unknown            EV   -74.0    -1.0           15.0   \n",
       "160552             Unknown            EV   -72.0   -11.0           20.2   \n",
       "160562             Unknown            EV    73.0    -3.0           16.3   \n",
       "160566             Unknown            EV   -48.0     4.0           41.2   \n",
       "\n",
       "        shot_angle  \n",
       "19            31.6  \n",
       "22            39.7  \n",
       "24            35.0  \n",
       "26            49.7  \n",
       "28            30.8  \n",
       "...            ...  \n",
       "160546         9.5  \n",
       "160551         3.8  \n",
       "160552        32.9  \n",
       "160562        10.6  \n",
       "160566         5.6  \n",
       "\n",
       "[32485 rows x 22 columns]"
      ]
     },
     "execution_count": 29,
     "metadata": {},
     "output_type": "execute_result"
    }
   ],
   "source": [
    "df [df['event_player_2_type'] == 'Unknown']"
   ]
  },
  {
   "cell_type": "markdown",
   "metadata": {},
   "source": [
    "The \"unknown\" label in the event_player_2_type column indicates that the player is known, but their specific task is not. Initially, I considered filling the missing values with the label \"unknown\" at first. However, this approach may introduce ambiguity, as it conflates genuinely missing data with situations where the player's task is explicitly marked as \"unknown.\"\n",
    "Given that only 306 values are missing, which is a small proportion of the dataset, dropping these rows is make sense."
   ]
  },
  {
   "cell_type": "code",
   "execution_count": null,
   "metadata": {},
   "outputs": [],
   "source": [
    "df['event_player_2_type'] = df['event_player_2_type'].dropna()\n",
    "df['event_player_2_name'] = df['event_player_2_name'].dropna()"
   ]
  },
  {
   "cell_type": "markdown",
   "metadata": {},
   "source": [
    "???? why there is still null values we drop them????"
   ]
  },
  {
   "cell_type": "code",
   "execution_count": null,
   "metadata": {},
   "outputs": [
    {
     "data": {
      "text/plain": [
       "game_id                         0\n",
       "description                     0\n",
       "shot_outcome                    0\n",
       "period                          0\n",
       "period_seconds_remaining        0\n",
       "game_seconds_remaining          0\n",
       "home_score                      0\n",
       "away_score                      0\n",
       "home_name                       0\n",
       "away_name                       0\n",
       "event_team                      0\n",
       "event_goalie_name               0\n",
       "empty_net                       0\n",
       "event_player_1_name             0\n",
       "event_player_1_type             0\n",
       "event_player_2_name           374\n",
       "event_player_2_type           374\n",
       "strength_code                 306\n",
       "x_fixed                        13\n",
       "y_fixed                        13\n",
       "shot_distance               38224\n",
       "shot_angle                  38224\n",
       "dtype: int64"
      ]
     },
     "execution_count": 31,
     "metadata": {},
     "output_type": "execute_result"
    }
   ],
   "source": [
    "df.isnull().sum()"
   ]
  },
  {
   "cell_type": "markdown",
   "metadata": {},
   "source": [
    "`shot_distance`"
   ]
  },
  {
   "cell_type": "code",
   "execution_count": null,
   "metadata": {},
   "outputs": [
    {
     "data": {
      "text/html": [
       "<div>\n",
       "<style scoped>\n",
       "    .dataframe tbody tr th:only-of-type {\n",
       "        vertical-align: middle;\n",
       "    }\n",
       "\n",
       "    .dataframe tbody tr th {\n",
       "        vertical-align: top;\n",
       "    }\n",
       "\n",
       "    .dataframe thead th {\n",
       "        text-align: right;\n",
       "    }\n",
       "</style>\n",
       "<table border=\"1\" class=\"dataframe\">\n",
       "  <thead>\n",
       "    <tr style=\"text-align: right;\">\n",
       "      <th></th>\n",
       "      <th>game_id</th>\n",
       "      <th>description</th>\n",
       "      <th>shot_outcome</th>\n",
       "      <th>period</th>\n",
       "      <th>period_seconds_remaining</th>\n",
       "      <th>game_seconds_remaining</th>\n",
       "      <th>home_score</th>\n",
       "      <th>away_score</th>\n",
       "      <th>home_name</th>\n",
       "      <th>away_name</th>\n",
       "      <th>...</th>\n",
       "      <th>empty_net</th>\n",
       "      <th>event_player_1_name</th>\n",
       "      <th>event_player_1_type</th>\n",
       "      <th>event_player_2_name</th>\n",
       "      <th>event_player_2_type</th>\n",
       "      <th>strength_code</th>\n",
       "      <th>x_fixed</th>\n",
       "      <th>y_fixed</th>\n",
       "      <th>shot_distance</th>\n",
       "      <th>shot_angle</th>\n",
       "    </tr>\n",
       "  </thead>\n",
       "  <tbody>\n",
       "    <tr>\n",
       "      <th>1</th>\n",
       "      <td>2021020001</td>\n",
       "      <td>Zach Bogosian shot blocked shot by Brock McGinn</td>\n",
       "      <td>BLOCKED_SHOT</td>\n",
       "      <td>1</td>\n",
       "      <td>1115</td>\n",
       "      <td>3515</td>\n",
       "      <td>0</td>\n",
       "      <td>0</td>\n",
       "      <td>Tampa Bay Lightning</td>\n",
       "      <td>Pittsburgh Penguins</td>\n",
       "      <td>...</td>\n",
       "      <td>False</td>\n",
       "      <td>Zach.Bogosian</td>\n",
       "      <td>Shooter</td>\n",
       "      <td>Brock.McGinn</td>\n",
       "      <td>Blocker</td>\n",
       "      <td>EV</td>\n",
       "      <td>60.0</td>\n",
       "      <td>-17.0</td>\n",
       "      <td>NaN</td>\n",
       "      <td>NaN</td>\n",
       "    </tr>\n",
       "    <tr>\n",
       "      <th>6</th>\n",
       "      <td>2021020001</td>\n",
       "      <td>Erik Cernak shot blocked shot by Danton Heinen</td>\n",
       "      <td>BLOCKED_SHOT</td>\n",
       "      <td>1</td>\n",
       "      <td>1009</td>\n",
       "      <td>3409</td>\n",
       "      <td>0</td>\n",
       "      <td>0</td>\n",
       "      <td>Tampa Bay Lightning</td>\n",
       "      <td>Pittsburgh Penguins</td>\n",
       "      <td>...</td>\n",
       "      <td>False</td>\n",
       "      <td>Erik.Cernak</td>\n",
       "      <td>Shooter</td>\n",
       "      <td>Danton.Heinen</td>\n",
       "      <td>Blocker</td>\n",
       "      <td>EV</td>\n",
       "      <td>52.0</td>\n",
       "      <td>-21.0</td>\n",
       "      <td>NaN</td>\n",
       "      <td>NaN</td>\n",
       "    </tr>\n",
       "    <tr>\n",
       "      <th>7</th>\n",
       "      <td>2021020001</td>\n",
       "      <td>Evan Rodrigues shot blocked shot by Ryan McDonagh</td>\n",
       "      <td>BLOCKED_SHOT</td>\n",
       "      <td>1</td>\n",
       "      <td>987</td>\n",
       "      <td>3387</td>\n",
       "      <td>0</td>\n",
       "      <td>0</td>\n",
       "      <td>Tampa Bay Lightning</td>\n",
       "      <td>Pittsburgh Penguins</td>\n",
       "      <td>...</td>\n",
       "      <td>False</td>\n",
       "      <td>Evan.Rodrigues</td>\n",
       "      <td>Shooter</td>\n",
       "      <td>Ryan.McDonagh</td>\n",
       "      <td>Blocker</td>\n",
       "      <td>EV</td>\n",
       "      <td>-71.0</td>\n",
       "      <td>11.0</td>\n",
       "      <td>NaN</td>\n",
       "      <td>NaN</td>\n",
       "    </tr>\n",
       "    <tr>\n",
       "      <th>11</th>\n",
       "      <td>2021020001</td>\n",
       "      <td>Jan Rutta shot blocked shot by Mark Friedman</td>\n",
       "      <td>BLOCKED_SHOT</td>\n",
       "      <td>1</td>\n",
       "      <td>882</td>\n",
       "      <td>3282</td>\n",
       "      <td>0</td>\n",
       "      <td>0</td>\n",
       "      <td>Tampa Bay Lightning</td>\n",
       "      <td>Pittsburgh Penguins</td>\n",
       "      <td>...</td>\n",
       "      <td>False</td>\n",
       "      <td>Jan.Rutta</td>\n",
       "      <td>Shooter</td>\n",
       "      <td>Mark.Friedman</td>\n",
       "      <td>Blocker</td>\n",
       "      <td>EV</td>\n",
       "      <td>76.0</td>\n",
       "      <td>-1.0</td>\n",
       "      <td>NaN</td>\n",
       "      <td>NaN</td>\n",
       "    </tr>\n",
       "    <tr>\n",
       "      <th>14</th>\n",
       "      <td>2021020001</td>\n",
       "      <td>Kris Letang shot blocked shot by Ross Colton</td>\n",
       "      <td>BLOCKED_SHOT</td>\n",
       "      <td>1</td>\n",
       "      <td>847</td>\n",
       "      <td>3247</td>\n",
       "      <td>0</td>\n",
       "      <td>0</td>\n",
       "      <td>Tampa Bay Lightning</td>\n",
       "      <td>Pittsburgh Penguins</td>\n",
       "      <td>...</td>\n",
       "      <td>False</td>\n",
       "      <td>Kris.Letang</td>\n",
       "      <td>Shooter</td>\n",
       "      <td>Ross.Colton</td>\n",
       "      <td>Blocker</td>\n",
       "      <td>EV</td>\n",
       "      <td>-76.0</td>\n",
       "      <td>1.0</td>\n",
       "      <td>NaN</td>\n",
       "      <td>NaN</td>\n",
       "    </tr>\n",
       "    <tr>\n",
       "      <th>...</th>\n",
       "      <td>...</td>\n",
       "      <td>...</td>\n",
       "      <td>...</td>\n",
       "      <td>...</td>\n",
       "      <td>...</td>\n",
       "      <td>...</td>\n",
       "      <td>...</td>\n",
       "      <td>...</td>\n",
       "      <td>...</td>\n",
       "      <td>...</td>\n",
       "      <td>...</td>\n",
       "      <td>...</td>\n",
       "      <td>...</td>\n",
       "      <td>...</td>\n",
       "      <td>...</td>\n",
       "      <td>...</td>\n",
       "      <td>...</td>\n",
       "      <td>...</td>\n",
       "      <td>...</td>\n",
       "      <td>...</td>\n",
       "      <td>...</td>\n",
       "    </tr>\n",
       "    <tr>\n",
       "      <th>160565</th>\n",
       "      <td>2021030416</td>\n",
       "      <td>Erik Johnson shot blocked shot by Steven Stamkos</td>\n",
       "      <td>BLOCKED_SHOT</td>\n",
       "      <td>3</td>\n",
       "      <td>224</td>\n",
       "      <td>224</td>\n",
       "      <td>1</td>\n",
       "      <td>2</td>\n",
       "      <td>Tampa Bay Lightning</td>\n",
       "      <td>Colorado Avalanche</td>\n",
       "      <td>...</td>\n",
       "      <td>False</td>\n",
       "      <td>Erik.Johnson</td>\n",
       "      <td>Shooter</td>\n",
       "      <td>Steven.Stamkos</td>\n",
       "      <td>Blocker</td>\n",
       "      <td>EV</td>\n",
       "      <td>-74.0</td>\n",
       "      <td>2.0</td>\n",
       "      <td>NaN</td>\n",
       "      <td>NaN</td>\n",
       "    </tr>\n",
       "    <tr>\n",
       "      <th>160567</th>\n",
       "      <td>2021030416</td>\n",
       "      <td>Bowen Byram shot blocked shot by Anthony Cirelli</td>\n",
       "      <td>BLOCKED_SHOT</td>\n",
       "      <td>3</td>\n",
       "      <td>150</td>\n",
       "      <td>150</td>\n",
       "      <td>1</td>\n",
       "      <td>2</td>\n",
       "      <td>Tampa Bay Lightning</td>\n",
       "      <td>Colorado Avalanche</td>\n",
       "      <td>...</td>\n",
       "      <td>False</td>\n",
       "      <td>Bowen.Byram</td>\n",
       "      <td>Shooter</td>\n",
       "      <td>Anthony.Cirelli</td>\n",
       "      <td>Blocker</td>\n",
       "      <td>EV</td>\n",
       "      <td>-65.0</td>\n",
       "      <td>-6.0</td>\n",
       "      <td>NaN</td>\n",
       "      <td>NaN</td>\n",
       "    </tr>\n",
       "    <tr>\n",
       "      <th>160568</th>\n",
       "      <td>2021030416</td>\n",
       "      <td>Mikhail Sergachev shot blocked shot by Erik Jo...</td>\n",
       "      <td>BLOCKED_SHOT</td>\n",
       "      <td>3</td>\n",
       "      <td>138</td>\n",
       "      <td>138</td>\n",
       "      <td>1</td>\n",
       "      <td>2</td>\n",
       "      <td>Tampa Bay Lightning</td>\n",
       "      <td>Colorado Avalanche</td>\n",
       "      <td>...</td>\n",
       "      <td>False</td>\n",
       "      <td>Mikhail.Sergachev</td>\n",
       "      <td>Shooter</td>\n",
       "      <td>Erik.Johnson</td>\n",
       "      <td>Blocker</td>\n",
       "      <td>EV</td>\n",
       "      <td>76.0</td>\n",
       "      <td>2.0</td>\n",
       "      <td>NaN</td>\n",
       "      <td>NaN</td>\n",
       "    </tr>\n",
       "    <tr>\n",
       "      <th>160569</th>\n",
       "      <td>2021030416</td>\n",
       "      <td>Nikita Kucherov shot blocked shot by Gabriel L...</td>\n",
       "      <td>BLOCKED_SHOT</td>\n",
       "      <td>3</td>\n",
       "      <td>101</td>\n",
       "      <td>101</td>\n",
       "      <td>1</td>\n",
       "      <td>2</td>\n",
       "      <td>Tampa Bay Lightning</td>\n",
       "      <td>Colorado Avalanche</td>\n",
       "      <td>...</td>\n",
       "      <td>False</td>\n",
       "      <td>Nikita.Kucherov</td>\n",
       "      <td>Shooter</td>\n",
       "      <td>Gabriel.Landeskog</td>\n",
       "      <td>Blocker</td>\n",
       "      <td>PP</td>\n",
       "      <td>74.0</td>\n",
       "      <td>-5.0</td>\n",
       "      <td>NaN</td>\n",
       "      <td>NaN</td>\n",
       "    </tr>\n",
       "    <tr>\n",
       "      <th>160572</th>\n",
       "      <td>2021030416</td>\n",
       "      <td>Nikita Kucherov shot blocked shot by Nathan Ma...</td>\n",
       "      <td>BLOCKED_SHOT</td>\n",
       "      <td>3</td>\n",
       "      <td>34</td>\n",
       "      <td>34</td>\n",
       "      <td>1</td>\n",
       "      <td>2</td>\n",
       "      <td>Tampa Bay Lightning</td>\n",
       "      <td>Colorado Avalanche</td>\n",
       "      <td>...</td>\n",
       "      <td>False</td>\n",
       "      <td>Nikita.Kucherov</td>\n",
       "      <td>Shooter</td>\n",
       "      <td>Nathan.MacKinnon</td>\n",
       "      <td>Blocker</td>\n",
       "      <td>PP</td>\n",
       "      <td>67.0</td>\n",
       "      <td>-15.0</td>\n",
       "      <td>NaN</td>\n",
       "      <td>NaN</td>\n",
       "    </tr>\n",
       "  </tbody>\n",
       "</table>\n",
       "<p>38224 rows × 22 columns</p>\n",
       "</div>"
      ],
      "text/plain": [
       "           game_id                                        description  \\\n",
       "1       2021020001    Zach Bogosian shot blocked shot by Brock McGinn   \n",
       "6       2021020001     Erik Cernak shot blocked shot by Danton Heinen   \n",
       "7       2021020001  Evan Rodrigues shot blocked shot by Ryan McDonagh   \n",
       "11      2021020001       Jan Rutta shot blocked shot by Mark Friedman   \n",
       "14      2021020001       Kris Letang shot blocked shot by Ross Colton   \n",
       "...            ...                                                ...   \n",
       "160565  2021030416   Erik Johnson shot blocked shot by Steven Stamkos   \n",
       "160567  2021030416   Bowen Byram shot blocked shot by Anthony Cirelli   \n",
       "160568  2021030416  Mikhail Sergachev shot blocked shot by Erik Jo...   \n",
       "160569  2021030416  Nikita Kucherov shot blocked shot by Gabriel L...   \n",
       "160572  2021030416  Nikita Kucherov shot blocked shot by Nathan Ma...   \n",
       "\n",
       "        shot_outcome  period  period_seconds_remaining  \\\n",
       "1       BLOCKED_SHOT       1                      1115   \n",
       "6       BLOCKED_SHOT       1                      1009   \n",
       "7       BLOCKED_SHOT       1                       987   \n",
       "11      BLOCKED_SHOT       1                       882   \n",
       "14      BLOCKED_SHOT       1                       847   \n",
       "...              ...     ...                       ...   \n",
       "160565  BLOCKED_SHOT       3                       224   \n",
       "160567  BLOCKED_SHOT       3                       150   \n",
       "160568  BLOCKED_SHOT       3                       138   \n",
       "160569  BLOCKED_SHOT       3                       101   \n",
       "160572  BLOCKED_SHOT       3                        34   \n",
       "\n",
       "        game_seconds_remaining  home_score  away_score            home_name  \\\n",
       "1                         3515           0           0  Tampa Bay Lightning   \n",
       "6                         3409           0           0  Tampa Bay Lightning   \n",
       "7                         3387           0           0  Tampa Bay Lightning   \n",
       "11                        3282           0           0  Tampa Bay Lightning   \n",
       "14                        3247           0           0  Tampa Bay Lightning   \n",
       "...                        ...         ...         ...                  ...   \n",
       "160565                     224           1           2  Tampa Bay Lightning   \n",
       "160567                     150           1           2  Tampa Bay Lightning   \n",
       "160568                     138           1           2  Tampa Bay Lightning   \n",
       "160569                     101           1           2  Tampa Bay Lightning   \n",
       "160572                      34           1           2  Tampa Bay Lightning   \n",
       "\n",
       "                  away_name  ... empty_net event_player_1_name  \\\n",
       "1       Pittsburgh Penguins  ...     False       Zach.Bogosian   \n",
       "6       Pittsburgh Penguins  ...     False         Erik.Cernak   \n",
       "7       Pittsburgh Penguins  ...     False      Evan.Rodrigues   \n",
       "11      Pittsburgh Penguins  ...     False           Jan.Rutta   \n",
       "14      Pittsburgh Penguins  ...     False         Kris.Letang   \n",
       "...                     ...  ...       ...                 ...   \n",
       "160565   Colorado Avalanche  ...     False        Erik.Johnson   \n",
       "160567   Colorado Avalanche  ...     False         Bowen.Byram   \n",
       "160568   Colorado Avalanche  ...     False   Mikhail.Sergachev   \n",
       "160569   Colorado Avalanche  ...     False     Nikita.Kucherov   \n",
       "160572   Colorado Avalanche  ...     False     Nikita.Kucherov   \n",
       "\n",
       "        event_player_1_type event_player_2_name event_player_2_type  \\\n",
       "1                   Shooter        Brock.McGinn             Blocker   \n",
       "6                   Shooter       Danton.Heinen             Blocker   \n",
       "7                   Shooter       Ryan.McDonagh             Blocker   \n",
       "11                  Shooter       Mark.Friedman             Blocker   \n",
       "14                  Shooter         Ross.Colton             Blocker   \n",
       "...                     ...                 ...                 ...   \n",
       "160565              Shooter      Steven.Stamkos             Blocker   \n",
       "160567              Shooter     Anthony.Cirelli             Blocker   \n",
       "160568              Shooter        Erik.Johnson             Blocker   \n",
       "160569              Shooter   Gabriel.Landeskog             Blocker   \n",
       "160572              Shooter    Nathan.MacKinnon             Blocker   \n",
       "\n",
       "       strength_code x_fixed y_fixed  shot_distance  shot_angle  \n",
       "1                 EV    60.0   -17.0            NaN         NaN  \n",
       "6                 EV    52.0   -21.0            NaN         NaN  \n",
       "7                 EV   -71.0    11.0            NaN         NaN  \n",
       "11                EV    76.0    -1.0            NaN         NaN  \n",
       "14                EV   -76.0     1.0            NaN         NaN  \n",
       "...              ...     ...     ...            ...         ...  \n",
       "160565            EV   -74.0     2.0            NaN         NaN  \n",
       "160567            EV   -65.0    -6.0            NaN         NaN  \n",
       "160568            EV    76.0     2.0            NaN         NaN  \n",
       "160569            PP    74.0    -5.0            NaN         NaN  \n",
       "160572            PP    67.0   -15.0            NaN         NaN  \n",
       "\n",
       "[38224 rows x 22 columns]"
      ]
     },
     "execution_count": 32,
     "metadata": {},
     "output_type": "execute_result"
    }
   ],
   "source": [
    "df[df['shot_distance'].isnull()]"
   ]
  },
  {
   "cell_type": "code",
   "execution_count": null,
   "metadata": {},
   "outputs": [
    {
     "name": "stdout",
     "output_type": "stream",
     "text": [
      "<class 'pandas.core.series.Series'>\n",
      "Index: 38224 entries, 1 to 160572\n",
      "Series name: shot_outcome\n",
      "Non-Null Count  Dtype \n",
      "--------------  ----- \n",
      "38224 non-null  object\n",
      "dtypes: object(1)\n",
      "memory usage: 597.2+ KB\n"
     ]
    }
   ],
   "source": [
    "temp =df[df['shot_distance'].isnull()]\n",
    "temp['shot_outcome'].info()"
   ]
  },
  {
   "cell_type": "code",
   "execution_count": null,
   "metadata": {},
   "outputs": [
    {
     "data": {
      "text/plain": [
       "<Axes: >"
      ]
     },
     "execution_count": 34,
     "metadata": {},
     "output_type": "execute_result"
    },
    {
     "data": {
      "image/png": "[encoded data removed]",
      "text/plain": [
       "<Figure size 640x480 with 1 Axes>"
      ]
     },
     "metadata": {},
     "output_type": "display_data"
    }
   ],
   "source": [
    "df['shot_distance'].hist()"
   ]
  },
  {
   "cell_type": "markdown",
   "metadata": {},
   "source": [
    "The output shows that when a shot is blocked, the 'shot_distance' becomes null. We can replace the null values with '-1'. Since the shot distance starts from zero, this substitution should not cause any issues.\n",
    "\n"
   ]
  },
  {
   "cell_type": "code",
   "execution_count": null,
   "metadata": {},
   "outputs": [
    {
     "data": {
      "text/plain": [
       "0"
      ]
     },
     "execution_count": 35,
     "metadata": {},
     "output_type": "execute_result"
    }
   ],
   "source": [
    "df['shot_distance']= df['shot_distance'].fillna(-1)\n",
    "df['shot_distance'].isnull().sum()"
   ]
  },
  {
   "cell_type": "markdown",
   "metadata": {},
   "source": [
    "`shot_angle`"
   ]
  },
  {
   "cell_type": "code",
   "execution_count": null,
   "metadata": {},
   "outputs": [
    {
     "name": "stdout",
     "output_type": "stream",
     "text": [
      "<class 'pandas.core.series.Series'>\n",
      "Index: 160572 entries, 0 to 160572\n",
      "Series name: shot_angle\n",
      "Non-Null Count   Dtype  \n",
      "--------------   -----  \n",
      "122348 non-null  float64\n",
      "dtypes: float64(1)\n",
      "memory usage: 2.5 MB\n"
     ]
    }
   ],
   "source": [
    "df['shot_angle'].info()"
   ]
  },
  {
   "cell_type": "code",
   "execution_count": null,
   "metadata": {},
   "outputs": [
    {
     "data": {
      "text/html": [
       "<div>\n",
       "<style scoped>\n",
       "    .dataframe tbody tr th:only-of-type {\n",
       "        vertical-align: middle;\n",
       "    }\n",
       "\n",
       "    .dataframe tbody tr th {\n",
       "        vertical-align: top;\n",
       "    }\n",
       "\n",
       "    .dataframe thead th {\n",
       "        text-align: right;\n",
       "    }\n",
       "</style>\n",
       "<table border=\"1\" class=\"dataframe\">\n",
       "  <thead>\n",
       "    <tr style=\"text-align: right;\">\n",
       "      <th></th>\n",
       "      <th>game_id</th>\n",
       "      <th>description</th>\n",
       "      <th>shot_outcome</th>\n",
       "      <th>period</th>\n",
       "      <th>period_seconds_remaining</th>\n",
       "      <th>game_seconds_remaining</th>\n",
       "      <th>home_score</th>\n",
       "      <th>away_score</th>\n",
       "      <th>home_name</th>\n",
       "      <th>away_name</th>\n",
       "      <th>...</th>\n",
       "      <th>empty_net</th>\n",
       "      <th>event_player_1_name</th>\n",
       "      <th>event_player_1_type</th>\n",
       "      <th>event_player_2_name</th>\n",
       "      <th>event_player_2_type</th>\n",
       "      <th>strength_code</th>\n",
       "      <th>x_fixed</th>\n",
       "      <th>y_fixed</th>\n",
       "      <th>shot_distance</th>\n",
       "      <th>shot_angle</th>\n",
       "    </tr>\n",
       "  </thead>\n",
       "  <tbody>\n",
       "    <tr>\n",
       "      <th>1</th>\n",
       "      <td>2021020001</td>\n",
       "      <td>Zach Bogosian shot blocked shot by Brock McGinn</td>\n",
       "      <td>BLOCKED_SHOT</td>\n",
       "      <td>1</td>\n",
       "      <td>1115</td>\n",
       "      <td>3515</td>\n",
       "      <td>0</td>\n",
       "      <td>0</td>\n",
       "      <td>Tampa Bay Lightning</td>\n",
       "      <td>Pittsburgh Penguins</td>\n",
       "      <td>...</td>\n",
       "      <td>False</td>\n",
       "      <td>Zach.Bogosian</td>\n",
       "      <td>Shooter</td>\n",
       "      <td>Brock.McGinn</td>\n",
       "      <td>Blocker</td>\n",
       "      <td>EV</td>\n",
       "      <td>60.0</td>\n",
       "      <td>-17.0</td>\n",
       "      <td>-1.0</td>\n",
       "      <td>NaN</td>\n",
       "    </tr>\n",
       "    <tr>\n",
       "      <th>6</th>\n",
       "      <td>2021020001</td>\n",
       "      <td>Erik Cernak shot blocked shot by Danton Heinen</td>\n",
       "      <td>BLOCKED_SHOT</td>\n",
       "      <td>1</td>\n",
       "      <td>1009</td>\n",
       "      <td>3409</td>\n",
       "      <td>0</td>\n",
       "      <td>0</td>\n",
       "      <td>Tampa Bay Lightning</td>\n",
       "      <td>Pittsburgh Penguins</td>\n",
       "      <td>...</td>\n",
       "      <td>False</td>\n",
       "      <td>Erik.Cernak</td>\n",
       "      <td>Shooter</td>\n",
       "      <td>Danton.Heinen</td>\n",
       "      <td>Blocker</td>\n",
       "      <td>EV</td>\n",
       "      <td>52.0</td>\n",
       "      <td>-21.0</td>\n",
       "      <td>-1.0</td>\n",
       "      <td>NaN</td>\n",
       "    </tr>\n",
       "    <tr>\n",
       "      <th>7</th>\n",
       "      <td>2021020001</td>\n",
       "      <td>Evan Rodrigues shot blocked shot by Ryan McDonagh</td>\n",
       "      <td>BLOCKED_SHOT</td>\n",
       "      <td>1</td>\n",
       "      <td>987</td>\n",
       "      <td>3387</td>\n",
       "      <td>0</td>\n",
       "      <td>0</td>\n",
       "      <td>Tampa Bay Lightning</td>\n",
       "      <td>Pittsburgh Penguins</td>\n",
       "      <td>...</td>\n",
       "      <td>False</td>\n",
       "      <td>Evan.Rodrigues</td>\n",
       "      <td>Shooter</td>\n",
       "      <td>Ryan.McDonagh</td>\n",
       "      <td>Blocker</td>\n",
       "      <td>EV</td>\n",
       "      <td>-71.0</td>\n",
       "      <td>11.0</td>\n",
       "      <td>-1.0</td>\n",
       "      <td>NaN</td>\n",
       "    </tr>\n",
       "    <tr>\n",
       "      <th>11</th>\n",
       "      <td>2021020001</td>\n",
       "      <td>Jan Rutta shot blocked shot by Mark Friedman</td>\n",
       "      <td>BLOCKED_SHOT</td>\n",
       "      <td>1</td>\n",
       "      <td>882</td>\n",
       "      <td>3282</td>\n",
       "      <td>0</td>\n",
       "      <td>0</td>\n",
       "      <td>Tampa Bay Lightning</td>\n",
       "      <td>Pittsburgh Penguins</td>\n",
       "      <td>...</td>\n",
       "      <td>False</td>\n",
       "      <td>Jan.Rutta</td>\n",
       "      <td>Shooter</td>\n",
       "      <td>Mark.Friedman</td>\n",
       "      <td>Blocker</td>\n",
       "      <td>EV</td>\n",
       "      <td>76.0</td>\n",
       "      <td>-1.0</td>\n",
       "      <td>-1.0</td>\n",
       "      <td>NaN</td>\n",
       "    </tr>\n",
       "    <tr>\n",
       "      <th>14</th>\n",
       "      <td>2021020001</td>\n",
       "      <td>Kris Letang shot blocked shot by Ross Colton</td>\n",
       "      <td>BLOCKED_SHOT</td>\n",
       "      <td>1</td>\n",
       "      <td>847</td>\n",
       "      <td>3247</td>\n",
       "      <td>0</td>\n",
       "      <td>0</td>\n",
       "      <td>Tampa Bay Lightning</td>\n",
       "      <td>Pittsburgh Penguins</td>\n",
       "      <td>...</td>\n",
       "      <td>False</td>\n",
       "      <td>Kris.Letang</td>\n",
       "      <td>Shooter</td>\n",
       "      <td>Ross.Colton</td>\n",
       "      <td>Blocker</td>\n",
       "      <td>EV</td>\n",
       "      <td>-76.0</td>\n",
       "      <td>1.0</td>\n",
       "      <td>-1.0</td>\n",
       "      <td>NaN</td>\n",
       "    </tr>\n",
       "    <tr>\n",
       "      <th>...</th>\n",
       "      <td>...</td>\n",
       "      <td>...</td>\n",
       "      <td>...</td>\n",
       "      <td>...</td>\n",
       "      <td>...</td>\n",
       "      <td>...</td>\n",
       "      <td>...</td>\n",
       "      <td>...</td>\n",
       "      <td>...</td>\n",
       "      <td>...</td>\n",
       "      <td>...</td>\n",
       "      <td>...</td>\n",
       "      <td>...</td>\n",
       "      <td>...</td>\n",
       "      <td>...</td>\n",
       "      <td>...</td>\n",
       "      <td>...</td>\n",
       "      <td>...</td>\n",
       "      <td>...</td>\n",
       "      <td>...</td>\n",
       "      <td>...</td>\n",
       "    </tr>\n",
       "    <tr>\n",
       "      <th>160565</th>\n",
       "      <td>2021030416</td>\n",
       "      <td>Erik Johnson shot blocked shot by Steven Stamkos</td>\n",
       "      <td>BLOCKED_SHOT</td>\n",
       "      <td>3</td>\n",
       "      <td>224</td>\n",
       "      <td>224</td>\n",
       "      <td>1</td>\n",
       "      <td>2</td>\n",
       "      <td>Tampa Bay Lightning</td>\n",
       "      <td>Colorado Avalanche</td>\n",
       "      <td>...</td>\n",
       "      <td>False</td>\n",
       "      <td>Erik.Johnson</td>\n",
       "      <td>Shooter</td>\n",
       "      <td>Steven.Stamkos</td>\n",
       "      <td>Blocker</td>\n",
       "      <td>EV</td>\n",
       "      <td>-74.0</td>\n",
       "      <td>2.0</td>\n",
       "      <td>-1.0</td>\n",
       "      <td>NaN</td>\n",
       "    </tr>\n",
       "    <tr>\n",
       "      <th>160567</th>\n",
       "      <td>2021030416</td>\n",
       "      <td>Bowen Byram shot blocked shot by Anthony Cirelli</td>\n",
       "      <td>BLOCKED_SHOT</td>\n",
       "      <td>3</td>\n",
       "      <td>150</td>\n",
       "      <td>150</td>\n",
       "      <td>1</td>\n",
       "      <td>2</td>\n",
       "      <td>Tampa Bay Lightning</td>\n",
       "      <td>Colorado Avalanche</td>\n",
       "      <td>...</td>\n",
       "      <td>False</td>\n",
       "      <td>Bowen.Byram</td>\n",
       "      <td>Shooter</td>\n",
       "      <td>Anthony.Cirelli</td>\n",
       "      <td>Blocker</td>\n",
       "      <td>EV</td>\n",
       "      <td>-65.0</td>\n",
       "      <td>-6.0</td>\n",
       "      <td>-1.0</td>\n",
       "      <td>NaN</td>\n",
       "    </tr>\n",
       "    <tr>\n",
       "      <th>160568</th>\n",
       "      <td>2021030416</td>\n",
       "      <td>Mikhail Sergachev shot blocked shot by Erik Jo...</td>\n",
       "      <td>BLOCKED_SHOT</td>\n",
       "      <td>3</td>\n",
       "      <td>138</td>\n",
       "      <td>138</td>\n",
       "      <td>1</td>\n",
       "      <td>2</td>\n",
       "      <td>Tampa Bay Lightning</td>\n",
       "      <td>Colorado Avalanche</td>\n",
       "      <td>...</td>\n",
       "      <td>False</td>\n",
       "      <td>Mikhail.Sergachev</td>\n",
       "      <td>Shooter</td>\n",
       "      <td>Erik.Johnson</td>\n",
       "      <td>Blocker</td>\n",
       "      <td>EV</td>\n",
       "      <td>76.0</td>\n",
       "      <td>2.0</td>\n",
       "      <td>-1.0</td>\n",
       "      <td>NaN</td>\n",
       "    </tr>\n",
       "    <tr>\n",
       "      <th>160569</th>\n",
       "      <td>2021030416</td>\n",
       "      <td>Nikita Kucherov shot blocked shot by Gabriel L...</td>\n",
       "      <td>BLOCKED_SHOT</td>\n",
       "      <td>3</td>\n",
       "      <td>101</td>\n",
       "      <td>101</td>\n",
       "      <td>1</td>\n",
       "      <td>2</td>\n",
       "      <td>Tampa Bay Lightning</td>\n",
       "      <td>Colorado Avalanche</td>\n",
       "      <td>...</td>\n",
       "      <td>False</td>\n",
       "      <td>Nikita.Kucherov</td>\n",
       "      <td>Shooter</td>\n",
       "      <td>Gabriel.Landeskog</td>\n",
       "      <td>Blocker</td>\n",
       "      <td>PP</td>\n",
       "      <td>74.0</td>\n",
       "      <td>-5.0</td>\n",
       "      <td>-1.0</td>\n",
       "      <td>NaN</td>\n",
       "    </tr>\n",
       "    <tr>\n",
       "      <th>160572</th>\n",
       "      <td>2021030416</td>\n",
       "      <td>Nikita Kucherov shot blocked shot by Nathan Ma...</td>\n",
       "      <td>BLOCKED_SHOT</td>\n",
       "      <td>3</td>\n",
       "      <td>34</td>\n",
       "      <td>34</td>\n",
       "      <td>1</td>\n",
       "      <td>2</td>\n",
       "      <td>Tampa Bay Lightning</td>\n",
       "      <td>Colorado Avalanche</td>\n",
       "      <td>...</td>\n",
       "      <td>False</td>\n",
       "      <td>Nikita.Kucherov</td>\n",
       "      <td>Shooter</td>\n",
       "      <td>Nathan.MacKinnon</td>\n",
       "      <td>Blocker</td>\n",
       "      <td>PP</td>\n",
       "      <td>67.0</td>\n",
       "      <td>-15.0</td>\n",
       "      <td>-1.0</td>\n",
       "      <td>NaN</td>\n",
       "    </tr>\n",
       "  </tbody>\n",
       "</table>\n",
       "<p>38224 rows × 22 columns</p>\n",
       "</div>"
      ],
      "text/plain": [
       "           game_id                                        description  \\\n",
       "1       2021020001    Zach Bogosian shot blocked shot by Brock McGinn   \n",
       "6       2021020001     Erik Cernak shot blocked shot by Danton Heinen   \n",
       "7       2021020001  Evan Rodrigues shot blocked shot by Ryan McDonagh   \n",
       "11      2021020001       Jan Rutta shot blocked shot by Mark Friedman   \n",
       "14      2021020001       Kris Letang shot blocked shot by Ross Colton   \n",
       "...            ...                                                ...   \n",
       "160565  2021030416   Erik Johnson shot blocked shot by Steven Stamkos   \n",
       "160567  2021030416   Bowen Byram shot blocked shot by Anthony Cirelli   \n",
       "160568  2021030416  Mikhail Sergachev shot blocked shot by Erik Jo...   \n",
       "160569  2021030416  Nikita Kucherov shot blocked shot by Gabriel L...   \n",
       "160572  2021030416  Nikita Kucherov shot blocked shot by Nathan Ma...   \n",
       "\n",
       "        shot_outcome  period  period_seconds_remaining  \\\n",
       "1       BLOCKED_SHOT       1                      1115   \n",
       "6       BLOCKED_SHOT       1                      1009   \n",
       "7       BLOCKED_SHOT       1                       987   \n",
       "11      BLOCKED_SHOT       1                       882   \n",
       "14      BLOCKED_SHOT       1                       847   \n",
       "...              ...     ...                       ...   \n",
       "160565  BLOCKED_SHOT       3                       224   \n",
       "160567  BLOCKED_SHOT       3                       150   \n",
       "160568  BLOCKED_SHOT       3                       138   \n",
       "160569  BLOCKED_SHOT       3                       101   \n",
       "160572  BLOCKED_SHOT       3                        34   \n",
       "\n",
       "        game_seconds_remaining  home_score  away_score            home_name  \\\n",
       "1                         3515           0           0  Tampa Bay Lightning   \n",
       "6                         3409           0           0  Tampa Bay Lightning   \n",
       "7                         3387           0           0  Tampa Bay Lightning   \n",
       "11                        3282           0           0  Tampa Bay Lightning   \n",
       "14                        3247           0           0  Tampa Bay Lightning   \n",
       "...                        ...         ...         ...                  ...   \n",
       "160565                     224           1           2  Tampa Bay Lightning   \n",
       "160567                     150           1           2  Tampa Bay Lightning   \n",
       "160568                     138           1           2  Tampa Bay Lightning   \n",
       "160569                     101           1           2  Tampa Bay Lightning   \n",
       "160572                      34           1           2  Tampa Bay Lightning   \n",
       "\n",
       "                  away_name  ... empty_net event_player_1_name  \\\n",
       "1       Pittsburgh Penguins  ...     False       Zach.Bogosian   \n",
       "6       Pittsburgh Penguins  ...     False         Erik.Cernak   \n",
       "7       Pittsburgh Penguins  ...     False      Evan.Rodrigues   \n",
       "11      Pittsburgh Penguins  ...     False           Jan.Rutta   \n",
       "14      Pittsburgh Penguins  ...     False         Kris.Letang   \n",
       "...                     ...  ...       ...                 ...   \n",
       "160565   Colorado Avalanche  ...     False        Erik.Johnson   \n",
       "160567   Colorado Avalanche  ...     False         Bowen.Byram   \n",
       "160568   Colorado Avalanche  ...     False   Mikhail.Sergachev   \n",
       "160569   Colorado Avalanche  ...     False     Nikita.Kucherov   \n",
       "160572   Colorado Avalanche  ...     False     Nikita.Kucherov   \n",
       "\n",
       "        event_player_1_type event_player_2_name event_player_2_type  \\\n",
       "1                   Shooter        Brock.McGinn             Blocker   \n",
       "6                   Shooter       Danton.Heinen             Blocker   \n",
       "7                   Shooter       Ryan.McDonagh             Blocker   \n",
       "11                  Shooter       Mark.Friedman             Blocker   \n",
       "14                  Shooter         Ross.Colton             Blocker   \n",
       "...                     ...                 ...                 ...   \n",
       "160565              Shooter      Steven.Stamkos             Blocker   \n",
       "160567              Shooter     Anthony.Cirelli             Blocker   \n",
       "160568              Shooter        Erik.Johnson             Blocker   \n",
       "160569              Shooter   Gabriel.Landeskog             Blocker   \n",
       "160572              Shooter    Nathan.MacKinnon             Blocker   \n",
       "\n",
       "       strength_code x_fixed y_fixed  shot_distance  shot_angle  \n",
       "1                 EV    60.0   -17.0           -1.0         NaN  \n",
       "6                 EV    52.0   -21.0           -1.0         NaN  \n",
       "7                 EV   -71.0    11.0           -1.0         NaN  \n",
       "11                EV    76.0    -1.0           -1.0         NaN  \n",
       "14                EV   -76.0     1.0           -1.0         NaN  \n",
       "...              ...     ...     ...            ...         ...  \n",
       "160565            EV   -74.0     2.0           -1.0         NaN  \n",
       "160567            EV   -65.0    -6.0           -1.0         NaN  \n",
       "160568            EV    76.0     2.0           -1.0         NaN  \n",
       "160569            PP    74.0    -5.0           -1.0         NaN  \n",
       "160572            PP    67.0   -15.0           -1.0         NaN  \n",
       "\n",
       "[38224 rows x 22 columns]"
      ]
     },
     "execution_count": 37,
     "metadata": {},
     "output_type": "execute_result"
    }
   ],
   "source": [
    "df[df['shot_angle'].isnull()]"
   ]
  },
  {
   "cell_type": "code",
   "execution_count": null,
   "metadata": {},
   "outputs": [
    {
     "data": {
      "text/plain": [
       "shot_outcome\n",
       "SHOT            80647\n",
       "BLOCKED_SHOT    38224\n",
       "MISSED_SHOT     32485\n",
       "GOAL             8842\n",
       "Name: count, dtype: int64"
      ]
     },
     "execution_count": 38,
     "metadata": {},
     "output_type": "execute_result"
    }
   ],
   "source": [
    "temp= df['shot_outcome'][df['event_player_2_name'].notna()]\n",
    "temp.value_counts()\n"
   ]
  },
  {
   "cell_type": "code",
   "execution_count": null,
   "metadata": {},
   "outputs": [
    {
     "data": {
      "text/plain": [
       "<Axes: >"
      ]
     },
     "execution_count": 39,
     "metadata": {},
     "output_type": "execute_result"
    },
    {
     "data": {
      "image/png": "[encoded data removed]",
      "text/plain": [
       "<Figure size 640x480 with 1 Axes>"
      ]
     },
     "metadata": {},
     "output_type": "display_data"
    }
   ],
   "source": [
    "df['shot_angle'].hist()"
   ]
  },
  {
   "cell_type": "markdown",
   "metadata": {},
   "source": [
    "Shot angle doesn't exist for blocked shot. We can fill it by \"-1\" to put a mark"
   ]
  },
  {
   "cell_type": "code",
   "execution_count": null,
   "metadata": {},
   "outputs": [
    {
     "data": {
      "text/plain": [
       "0"
      ]
     },
     "execution_count": 40,
     "metadata": {},
     "output_type": "execute_result"
    }
   ],
   "source": [
    "df['shot_angle']= df['shot_angle'].fillna(-1)\n",
    "df['shot_angle'].isnull().sum()"
   ]
  },
  {
   "cell_type": "code",
   "execution_count": null,
   "metadata": {},
   "outputs": [
    {
     "data": {
      "text/plain": [
       "game_id                       0\n",
       "description                   0\n",
       "shot_outcome                  0\n",
       "period                        0\n",
       "period_seconds_remaining      0\n",
       "game_seconds_remaining        0\n",
       "home_score                    0\n",
       "away_score                    0\n",
       "home_name                     0\n",
       "away_name                     0\n",
       "event_team                    0\n",
       "event_goalie_name             0\n",
       "empty_net                     0\n",
       "event_player_1_name           0\n",
       "event_player_1_type           0\n",
       "event_player_2_name         374\n",
       "event_player_2_type         374\n",
       "strength_code               306\n",
       "x_fixed                      13\n",
       "y_fixed                      13\n",
       "shot_distance                 0\n",
       "shot_angle                    0\n",
       "dtype: int64"
      ]
     },
     "execution_count": 41,
     "metadata": {},
     "output_type": "execute_result"
    }
   ],
   "source": [
    "df.isnull().sum()"
   ]
  },
  {
   "cell_type": "code",
   "execution_count": null,
   "metadata": {},
   "outputs": [
    {
     "data": {
      "text/plain": [
       "strength_code\n",
       "EV    128437\n",
       "PP     26277\n",
       "SH      5552\n",
       "Name: count, dtype: int64"
      ]
     },
     "execution_count": 42,
     "metadata": {},
     "output_type": "execute_result"
    }
   ],
   "source": [
    "df['strength_code'].value_counts()"
   ]
  },
  {
   "cell_type": "code",
   "execution_count": null,
   "metadata": {},
   "outputs": [
    {
     "data": {
      "text/plain": [
       "306"
      ]
     },
     "execution_count": 43,
     "metadata": {},
     "output_type": "execute_result"
    }
   ],
   "source": [
    "df['strength_code'].isnull().sum()"
   ]
  },
  {
   "cell_type": "code",
   "execution_count": null,
   "metadata": {},
   "outputs": [
    {
     "data": {
      "text/plain": [
       "game_id                       0\n",
       "description                   0\n",
       "shot_outcome                  0\n",
       "period                        0\n",
       "period_seconds_remaining      0\n",
       "game_seconds_remaining        0\n",
       "home_score                    0\n",
       "away_score                    0\n",
       "home_name                     0\n",
       "away_name                     0\n",
       "event_team                    0\n",
       "event_goalie_name             0\n",
       "empty_net                     0\n",
       "event_player_1_name           0\n",
       "event_player_1_type           0\n",
       "event_player_2_name           0\n",
       "event_player_2_type           0\n",
       "strength_code               306\n",
       "x_fixed                       0\n",
       "y_fixed                       0\n",
       "shot_distance                 0\n",
       "shot_angle                    0\n",
       "dtype: int64"
      ]
     },
     "execution_count": 44,
     "metadata": {},
     "output_type": "execute_result"
    }
   ],
   "source": [
    "df[df['strength_code'].isnull()].isnull().sum()"
   ]
  },
  {
   "cell_type": "markdown",
   "metadata": {},
   "source": [
    "there is no related missing values where strength_code is misssing."
   ]
  },
  {
   "cell_type": "code",
   "execution_count": null,
   "metadata": {},
   "outputs": [
    {
     "data": {
      "text/plain": [
       "game_id                       0\n",
       "description                   0\n",
       "shot_outcome                  0\n",
       "period                        0\n",
       "period_seconds_remaining      0\n",
       "game_seconds_remaining        0\n",
       "home_score                    0\n",
       "away_score                    0\n",
       "home_name                     0\n",
       "away_name                     0\n",
       "event_team                    0\n",
       "event_goalie_name             0\n",
       "empty_net                     0\n",
       "event_player_1_name           0\n",
       "event_player_1_type           0\n",
       "event_player_2_name         374\n",
       "event_player_2_type         374\n",
       "strength_code               306\n",
       "x_fixed                      13\n",
       "y_fixed                      13\n",
       "shot_distance                 0\n",
       "shot_angle                    0\n",
       "dtype: int64"
      ]
     },
     "execution_count": 45,
     "metadata": {},
     "output_type": "execute_result"
    }
   ],
   "source": [
    "df['strength_code'] = df['strength_code'].dropna()\n",
    "df['strength_code'] = df['strength_code'].dropna()\n",
    "df.isnull().sum()"
   ]
  },
  {
   "cell_type": "markdown",
   "metadata": {},
   "source": [
    "## Data Visualization"
   ]
  },
  {
   "cell_type": "code",
   "execution_count": null,
   "metadata": {},
   "outputs": [
    {
     "name": "stdout",
     "output_type": "stream",
     "text": [
      "<class 'pandas.core.frame.DataFrame'>\n",
      "Index: 160572 entries, 0 to 160572\n",
      "Data columns (total 22 columns):\n",
      " #   Column                    Non-Null Count   Dtype  \n",
      "---  ------                    --------------   -----  \n",
      " 0   game_id                   160572 non-null  int64  \n",
      " 1   description               160572 non-null  object \n",
      " 2   shot_outcome              160572 non-null  object \n",
      " 3   period                    160572 non-null  int64  \n",
      " 4   period_seconds_remaining  160572 non-null  int64  \n",
      " 5   game_seconds_remaining    160572 non-null  int64  \n",
      " 6   home_score                160572 non-null  int64  \n",
      " 7   away_score                160572 non-null  int64  \n",
      " 8   home_name                 160572 non-null  object \n",
      " 9   away_name                 160572 non-null  object \n",
      " 10  event_team                160572 non-null  object \n",
      " 11  event_goalie_name         160572 non-null  object \n",
      " 12  empty_net                 160572 non-null  bool   \n",
      " 13  event_player_1_name       160572 non-null  object \n",
      " 14  event_player_1_type       160572 non-null  object \n",
      " 15  event_player_2_name       160198 non-null  object \n",
      " 16  event_player_2_type       160198 non-null  object \n",
      " 17  strength_code             160266 non-null  object \n",
      " 18  x_fixed                   160559 non-null  float64\n",
      " 19  y_fixed                   160559 non-null  float64\n",
      " 20  shot_distance             160572 non-null  float64\n",
      " 21  shot_angle                160572 non-null  float64\n",
      "dtypes: bool(1), float64(4), int64(6), object(11)\n",
      "memory usage: 27.1+ MB\n"
     ]
    }
   ],
   "source": [
    "# summarize the datatype\n",
    "df.info()"
   ]
  },
  {
   "cell_type": "code",
   "execution_count": null,
   "metadata": {},
   "outputs": [],
   "source": [
    "numerical_features =['period','period_seconds_remaining','game_seconds_remaining','home_score','away_score','x_fixed','y_fixed','shot_distance','shot_angle']\n",
    "categorical_features = df.columns.difference(numerical_features).tolist()\n"
   ]
  },
  {
   "cell_type": "code",
   "execution_count": null,
   "metadata": {},
   "outputs": [
    {
     "data": {
      "image/png": "[encoded data removed]",
      "text/plain": [
       "<Figure size 1500x1000 with 9 Axes>"
      ]
     },
     "metadata": {},
     "output_type": "display_data"
    },
    {
     "data": {
      "text/plain": [
       "Text(0.5, 0.98, 'Histograms of Features')"
      ]
     },
     "execution_count": 48,
     "metadata": {},
     "output_type": "execute_result"
    },
    {
     "data": {
      "text/plain": [
       "<Figure size 640x480 with 0 Axes>"
      ]
     },
     "metadata": {},
     "output_type": "display_data"
    }
   ],
   "source": [
    "#Histograms for numerical features\n",
    "df[numerical_features].hist(bins=20, figsize=(15, 10))\n",
    "plt.show()\n",
    "plt.suptitle(\"Histograms of Features\")\n"
   ]
  },
  {
   "cell_type": "markdown",
   "metadata": {},
   "source": [
    "#visualization of categorical features (value.counts() took large time)\n"
   ]
  },
  {
   "cell_type": "code",
   "execution_count": null,
   "metadata": {},
   "outputs": [
    {
     "ename": "SyntaxError",
     "evalue": "'break' outside loop (1899685474.py, line 2)",
     "output_type": "error",
     "traceback": [
      "\u001b[1;36m  Cell \u001b[1;32mIn[49], line 2\u001b[1;36m\u001b[0m\n\u001b[1;33m    break\u001b[0m\n\u001b[1;37m    ^\u001b[0m\n\u001b[1;31mSyntaxError\u001b[0m\u001b[1;31m:\u001b[0m 'break' outside loop\n"
     ]
    }
   ],
   "source": [
    "# Loop through each categorical feature and plot its distribution\n",
    "break\n",
    "for feature in categorical_features:\n",
    "    plt.figure(figsize=(8, 4))\n",
    "    df[feature].value_counts().plot(kind='bar')\n",
    "    plt.title(f'Distribution of {feature}')\n",
    "    plt.xlabel(feature)\n",
    "    plt.ylabel('Count')\n",
    "    plt.show()\n"
   ]
  },
  {
   "cell_type": "markdown",
   "metadata": {},
   "source": [
    "# Downsampling "
   ]
  },
  {
   "cell_type": "code",
   "execution_count": null,
   "metadata": {},
   "outputs": [],
   "source": []
  },
  {
   "cell_type": "markdown",
   "metadata": {},
   "source": [
    "## Label Encoding & Normalization"
   ]
  },
  {
   "cell_type": "code",
   "execution_count": null,
   "metadata": {},
   "outputs": [],
   "source": []
  },
  {
   "cell_type": "markdown",
   "metadata": {},
   "source": [
    "## PCA?"
   ]
  },
  {
   "cell_type": "code",
   "execution_count": null,
   "metadata": {},
   "outputs": [],
   "source": []
  },
  {
   "cell_type": "markdown",
   "metadata": {},
   "source": [
    "## Data Splitting"
   ]
  },
  {
   "cell_type": "code",
   "execution_count": null,
   "metadata": {},
   "outputs": [],
   "source": []
  },
  {
   "cell_type": "markdown",
   "metadata": {},
   "source": [
    "## Model Building"
   ]
  },
  {
   "cell_type": "markdown",
   "metadata": {},
   "source": [
    "QUESTİONS :\n",
    "\n",
    "Feature engineering . How can I decide which features should be selected? korolasyon analizi ile karar ver  \n",
    "Should I decide select features first or select model first ? feature selection \n",
    "I will experiment on  Linear regression or knn \n",
    "Ensemble models like DT , Boosting models\n",
    "SVM\n",
    "and neural network (kerasClassifier)\n",
    "\n",
    "First find best model then experiment"
   ]
  },
  {
   "cell_type": "code",
   "execution_count": null,
   "metadata": {},
   "outputs": [],
   "source": []
  },
  {
   "cell_type": "code",
   "execution_count": null,
   "metadata": {},
   "outputs": [],
   "source": []
  },
  {
   "cell_type": "code",
   "execution_count": null,
   "metadata": {},
   "outputs": [],
   "source": []
  },
  {
   "cell_type": "code",
   "execution_count": null,
   "metadata": {},
   "outputs": [],
   "source": []
  },
  {
   "cell_type": "code",
   "execution_count": null,
   "metadata": {},
   "outputs": [],
   "source": []
  },
  {
   "cell_type": "markdown",
   "metadata": {},
   "source": []
  }
 ],
 "metadata": {
  "kernelspec": {
   "display_name": "Python 3",
   "language": "python",
   "name": "python3"
  },
  "language_info": {
   "codemirror_mode": {
    "name": "ipython",
    "version": 3
   },
   "file_extension": ".py",
   "mimetype": "text/x-python",
   "name": "python",
   "nbconvert_exporter": "python",
   "pygments_lexer": "ipython3",
   "version": "3.11.0"
  }
 },
 "nbformat": 4,
 "nbformat_minor": 2
}
